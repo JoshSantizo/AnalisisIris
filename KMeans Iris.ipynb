{
 "cells": [
  {
   "cell_type": "markdown",
   "id": "fce29987",
   "metadata": {},
   "source": [
    "### 1. Realizar kmeans de iris cluster\n",
    "#### 2. Un árbol de decisión para los clientes"
   ]
  },
  {
   "cell_type": "code",
   "execution_count": 1,
   "id": "63b41cd1",
   "metadata": {},
   "outputs": [],
   "source": [
    "import pandas as pd"
   ]
  },
  {
   "cell_type": "code",
   "execution_count": 2,
   "id": "511fe180",
   "metadata": {},
   "outputs": [],
   "source": [
    "rutaArchivo = \"C:/Users/Jsant/Mall_Customers-2.csv\""
   ]
  },
  {
   "cell_type": "code",
   "execution_count": 3,
   "id": "b50ec5bf",
   "metadata": {},
   "outputs": [],
   "source": [
    "import seaborn as sns"
   ]
  },
  {
   "cell_type": "code",
   "execution_count": 4,
   "id": "6665a668",
   "metadata": {},
   "outputs": [],
   "source": [
    "from sklearn.cluster import KMeans"
   ]
  },
  {
   "cell_type": "code",
   "execution_count": 5,
   "id": "b2c976c7",
   "metadata": {},
   "outputs": [
    {
     "data": {
      "text/html": [
       "<div>\n",
       "<style scoped>\n",
       "    .dataframe tbody tr th:only-of-type {\n",
       "        vertical-align: middle;\n",
       "    }\n",
       "\n",
       "    .dataframe tbody tr th {\n",
       "        vertical-align: top;\n",
       "    }\n",
       "\n",
       "    .dataframe thead th {\n",
       "        text-align: right;\n",
       "    }\n",
       "</style>\n",
       "<table border=\"1\" class=\"dataframe\">\n",
       "  <thead>\n",
       "    <tr style=\"text-align: right;\">\n",
       "      <th></th>\n",
       "      <th>sepal_length</th>\n",
       "      <th>sepal_width</th>\n",
       "      <th>petal_length</th>\n",
       "      <th>petal_width</th>\n",
       "      <th>species</th>\n",
       "    </tr>\n",
       "  </thead>\n",
       "  <tbody>\n",
       "    <tr>\n",
       "      <th>0</th>\n",
       "      <td>5.1</td>\n",
       "      <td>3.5</td>\n",
       "      <td>1.4</td>\n",
       "      <td>0.2</td>\n",
       "      <td>setosa</td>\n",
       "    </tr>\n",
       "    <tr>\n",
       "      <th>1</th>\n",
       "      <td>4.9</td>\n",
       "      <td>3.0</td>\n",
       "      <td>1.4</td>\n",
       "      <td>0.2</td>\n",
       "      <td>setosa</td>\n",
       "    </tr>\n",
       "    <tr>\n",
       "      <th>2</th>\n",
       "      <td>4.7</td>\n",
       "      <td>3.2</td>\n",
       "      <td>1.3</td>\n",
       "      <td>0.2</td>\n",
       "      <td>setosa</td>\n",
       "    </tr>\n",
       "    <tr>\n",
       "      <th>3</th>\n",
       "      <td>4.6</td>\n",
       "      <td>3.1</td>\n",
       "      <td>1.5</td>\n",
       "      <td>0.2</td>\n",
       "      <td>setosa</td>\n",
       "    </tr>\n",
       "    <tr>\n",
       "      <th>4</th>\n",
       "      <td>5.0</td>\n",
       "      <td>3.6</td>\n",
       "      <td>1.4</td>\n",
       "      <td>0.2</td>\n",
       "      <td>setosa</td>\n",
       "    </tr>\n",
       "    <tr>\n",
       "      <th>5</th>\n",
       "      <td>5.4</td>\n",
       "      <td>3.9</td>\n",
       "      <td>1.7</td>\n",
       "      <td>0.4</td>\n",
       "      <td>setosa</td>\n",
       "    </tr>\n",
       "  </tbody>\n",
       "</table>\n",
       "</div>"
      ],
      "text/plain": [
       "   sepal_length  sepal_width  petal_length  petal_width species\n",
       "0           5.1          3.5           1.4          0.2  setosa\n",
       "1           4.9          3.0           1.4          0.2  setosa\n",
       "2           4.7          3.2           1.3          0.2  setosa\n",
       "3           4.6          3.1           1.5          0.2  setosa\n",
       "4           5.0          3.6           1.4          0.2  setosa\n",
       "5           5.4          3.9           1.7          0.4  setosa"
      ]
     },
     "execution_count": 5,
     "metadata": {},
     "output_type": "execute_result"
    }
   ],
   "source": [
    "#Cargar el DataSet\n",
    "data = sns.load_dataset('iris')\n",
    "data.head(6)"
   ]
  },
  {
   "cell_type": "code",
   "execution_count": 6,
   "id": "ec67524c",
   "metadata": {},
   "outputs": [
    {
     "name": "stdout",
     "output_type": "stream",
     "text": [
      "<class 'pandas.core.frame.DataFrame'>\n",
      "RangeIndex: 150 entries, 0 to 149\n",
      "Data columns (total 5 columns):\n",
      " #   Column        Non-Null Count  Dtype  \n",
      "---  ------        --------------  -----  \n",
      " 0   sepal_length  150 non-null    float64\n",
      " 1   sepal_width   150 non-null    float64\n",
      " 2   petal_length  150 non-null    float64\n",
      " 3   petal_width   150 non-null    float64\n",
      " 4   species       150 non-null    object \n",
      "dtypes: float64(4), object(1)\n",
      "memory usage: 6.0+ KB\n"
     ]
    }
   ],
   "source": [
    "data.info()"
   ]
  },
  {
   "cell_type": "code",
   "execution_count": 7,
   "id": "7978760c",
   "metadata": {},
   "outputs": [],
   "source": [
    "data.rename({'petal_length':'Longitud_de_petalo', 'petal_width':'Ancho_de_petalo', 'sepal_length':'Longitud_de_sepalo', 'sepal_width':'Ancho_de_sepalo'}, axis=1, inplace=True)"
   ]
  },
  {
   "cell_type": "code",
   "execution_count": 8,
   "id": "bd7be4b2",
   "metadata": {},
   "outputs": [
    {
     "data": {
      "text/html": [
       "<div>\n",
       "<style scoped>\n",
       "    .dataframe tbody tr th:only-of-type {\n",
       "        vertical-align: middle;\n",
       "    }\n",
       "\n",
       "    .dataframe tbody tr th {\n",
       "        vertical-align: top;\n",
       "    }\n",
       "\n",
       "    .dataframe thead th {\n",
       "        text-align: right;\n",
       "    }\n",
       "</style>\n",
       "<table border=\"1\" class=\"dataframe\">\n",
       "  <thead>\n",
       "    <tr style=\"text-align: right;\">\n",
       "      <th></th>\n",
       "      <th>Longitud_de_sepalo</th>\n",
       "      <th>Ancho_de_sepalo</th>\n",
       "      <th>Longitud_de_petalo</th>\n",
       "      <th>Ancho_de_petalo</th>\n",
       "      <th>species</th>\n",
       "    </tr>\n",
       "  </thead>\n",
       "  <tbody>\n",
       "    <tr>\n",
       "      <th>0</th>\n",
       "      <td>5.1</td>\n",
       "      <td>3.5</td>\n",
       "      <td>1.4</td>\n",
       "      <td>0.2</td>\n",
       "      <td>setosa</td>\n",
       "    </tr>\n",
       "    <tr>\n",
       "      <th>1</th>\n",
       "      <td>4.9</td>\n",
       "      <td>3.0</td>\n",
       "      <td>1.4</td>\n",
       "      <td>0.2</td>\n",
       "      <td>setosa</td>\n",
       "    </tr>\n",
       "    <tr>\n",
       "      <th>2</th>\n",
       "      <td>4.7</td>\n",
       "      <td>3.2</td>\n",
       "      <td>1.3</td>\n",
       "      <td>0.2</td>\n",
       "      <td>setosa</td>\n",
       "    </tr>\n",
       "    <tr>\n",
       "      <th>3</th>\n",
       "      <td>4.6</td>\n",
       "      <td>3.1</td>\n",
       "      <td>1.5</td>\n",
       "      <td>0.2</td>\n",
       "      <td>setosa</td>\n",
       "    </tr>\n",
       "    <tr>\n",
       "      <th>4</th>\n",
       "      <td>5.0</td>\n",
       "      <td>3.6</td>\n",
       "      <td>1.4</td>\n",
       "      <td>0.2</td>\n",
       "      <td>setosa</td>\n",
       "    </tr>\n",
       "  </tbody>\n",
       "</table>\n",
       "</div>"
      ],
      "text/plain": [
       "   Longitud_de_sepalo  Ancho_de_sepalo  Longitud_de_petalo  Ancho_de_petalo  \\\n",
       "0                 5.1              3.5                 1.4              0.2   \n",
       "1                 4.9              3.0                 1.4              0.2   \n",
       "2                 4.7              3.2                 1.3              0.2   \n",
       "3                 4.6              3.1                 1.5              0.2   \n",
       "4                 5.0              3.6                 1.4              0.2   \n",
       "\n",
       "  species  \n",
       "0  setosa  \n",
       "1  setosa  \n",
       "2  setosa  \n",
       "3  setosa  \n",
       "4  setosa  "
      ]
     },
     "execution_count": 8,
     "metadata": {},
     "output_type": "execute_result"
    }
   ],
   "source": [
    "data.head()"
   ]
  },
  {
   "cell_type": "code",
   "execution_count": 9,
   "id": "cf2a7204",
   "metadata": {
    "scrolled": false
   },
   "outputs": [
    {
     "data": {
      "text/html": [
       "<div>\n",
       "<style scoped>\n",
       "    .dataframe tbody tr th:only-of-type {\n",
       "        vertical-align: middle;\n",
       "    }\n",
       "\n",
       "    .dataframe tbody tr th {\n",
       "        vertical-align: top;\n",
       "    }\n",
       "\n",
       "    .dataframe thead th {\n",
       "        text-align: right;\n",
       "    }\n",
       "</style>\n",
       "<table border=\"1\" class=\"dataframe\">\n",
       "  <thead>\n",
       "    <tr style=\"text-align: right;\">\n",
       "      <th></th>\n",
       "      <th>count</th>\n",
       "      <th>mean</th>\n",
       "      <th>std</th>\n",
       "      <th>min</th>\n",
       "      <th>25%</th>\n",
       "      <th>50%</th>\n",
       "      <th>75%</th>\n",
       "      <th>max</th>\n",
       "    </tr>\n",
       "  </thead>\n",
       "  <tbody>\n",
       "    <tr>\n",
       "      <th>Longitud_de_sepalo</th>\n",
       "      <td>150.0</td>\n",
       "      <td>5.843333</td>\n",
       "      <td>0.828066</td>\n",
       "      <td>4.3</td>\n",
       "      <td>5.1</td>\n",
       "      <td>5.80</td>\n",
       "      <td>6.4</td>\n",
       "      <td>7.9</td>\n",
       "    </tr>\n",
       "    <tr>\n",
       "      <th>Ancho_de_sepalo</th>\n",
       "      <td>150.0</td>\n",
       "      <td>3.057333</td>\n",
       "      <td>0.435866</td>\n",
       "      <td>2.0</td>\n",
       "      <td>2.8</td>\n",
       "      <td>3.00</td>\n",
       "      <td>3.3</td>\n",
       "      <td>4.4</td>\n",
       "    </tr>\n",
       "    <tr>\n",
       "      <th>Longitud_de_petalo</th>\n",
       "      <td>150.0</td>\n",
       "      <td>3.758000</td>\n",
       "      <td>1.765298</td>\n",
       "      <td>1.0</td>\n",
       "      <td>1.6</td>\n",
       "      <td>4.35</td>\n",
       "      <td>5.1</td>\n",
       "      <td>6.9</td>\n",
       "    </tr>\n",
       "    <tr>\n",
       "      <th>Ancho_de_petalo</th>\n",
       "      <td>150.0</td>\n",
       "      <td>1.199333</td>\n",
       "      <td>0.762238</td>\n",
       "      <td>0.1</td>\n",
       "      <td>0.3</td>\n",
       "      <td>1.30</td>\n",
       "      <td>1.8</td>\n",
       "      <td>2.5</td>\n",
       "    </tr>\n",
       "  </tbody>\n",
       "</table>\n",
       "</div>"
      ],
      "text/plain": [
       "                    count      mean       std  min  25%   50%  75%  max\n",
       "Longitud_de_sepalo  150.0  5.843333  0.828066  4.3  5.1  5.80  6.4  7.9\n",
       "Ancho_de_sepalo     150.0  3.057333  0.435866  2.0  2.8  3.00  3.3  4.4\n",
       "Longitud_de_petalo  150.0  3.758000  1.765298  1.0  1.6  4.35  5.1  6.9\n",
       "Ancho_de_petalo     150.0  1.199333  0.762238  0.1  0.3  1.30  1.8  2.5"
      ]
     },
     "execution_count": 9,
     "metadata": {},
     "output_type": "execute_result"
    }
   ],
   "source": [
    "data.describe().T"
   ]
  },
  {
   "cell_type": "code",
   "execution_count": 10,
   "id": "f55b1482",
   "metadata": {},
   "outputs": [
    {
     "data": {
      "text/plain": [
       "setosa        50\n",
       "versicolor    50\n",
       "virginica     50\n",
       "Name: species, dtype: int64"
      ]
     },
     "execution_count": 10,
     "metadata": {},
     "output_type": "execute_result"
    }
   ],
   "source": [
    "data.species.value_counts()"
   ]
  },
  {
   "cell_type": "markdown",
   "id": "a442c4ce",
   "metadata": {},
   "source": [
    "### Segmentacion total "
   ]
  },
  {
   "cell_type": "code",
   "execution_count": 11,
   "id": "6dadd6c3",
   "metadata": {
    "scrolled": true
   },
   "outputs": [
    {
     "data": {
      "image/png": "[encoded data removed]",
      "text/plain": [
       "<Figure size 432x288 with 1 Axes>"
      ]
     },
     "metadata": {
      "needs_background": "light"
     },
     "output_type": "display_data"
    }
   ],
   "source": [
    "data.Longitud_de_petalo.plot.hist();"
   ]
  },
  {
   "cell_type": "code",
   "execution_count": 12,
   "id": "2e6997fe",
   "metadata": {},
   "outputs": [],
   "source": [
    "import matplotlib.pyplot as plt, seaborn as sns\n",
    "sns.set()"
   ]
  },
  {
   "cell_type": "code",
   "execution_count": 13,
   "id": "fef935d7",
   "metadata": {},
   "outputs": [
    {
     "data": {
      "image/png": "[encoded data removed]",
      "text/plain": [
       "<Figure size 432x288 with 1 Axes>"
      ]
     },
     "metadata": {},
     "output_type": "display_data"
    }
   ],
   "source": [
    "data.Longitud_de_petalo.plot.hist();\n",
    "plt.xlabel('Longitud');"
   ]
  },
  {
   "cell_type": "code",
   "execution_count": 14,
   "id": "aa9e160d",
   "metadata": {},
   "outputs": [],
   "source": [
    "import numpy as np"
   ]
  },
  {
   "cell_type": "code",
   "execution_count": 15,
   "id": "477bc91e",
   "metadata": {},
   "outputs": [],
   "source": [
    "#df['Especies']=np.where(data.Longitud >= 5, 'Longitud Alto',\n",
    " #                   np.where(data.Longitud < 4, 'Longitud bajo', \"Longitud moderado\")  )"
   ]
  },
  {
   "cell_type": "code",
   "execution_count": 16,
   "id": "839bbb44",
   "metadata": {},
   "outputs": [
    {
     "data": {
      "text/html": [
       "<div>\n",
       "<style scoped>\n",
       "    .dataframe tbody tr th:only-of-type {\n",
       "        vertical-align: middle;\n",
       "    }\n",
       "\n",
       "    .dataframe tbody tr th {\n",
       "        vertical-align: top;\n",
       "    }\n",
       "\n",
       "    .dataframe thead th {\n",
       "        text-align: right;\n",
       "    }\n",
       "</style>\n",
       "<table border=\"1\" class=\"dataframe\">\n",
       "  <thead>\n",
       "    <tr style=\"text-align: right;\">\n",
       "      <th></th>\n",
       "      <th>Longitud_de_sepalo</th>\n",
       "      <th>Ancho_de_sepalo</th>\n",
       "      <th>Longitud_de_petalo</th>\n",
       "      <th>Ancho_de_petalo</th>\n",
       "      <th>species</th>\n",
       "    </tr>\n",
       "  </thead>\n",
       "  <tbody>\n",
       "    <tr>\n",
       "      <th>0</th>\n",
       "      <td>5.1</td>\n",
       "      <td>3.5</td>\n",
       "      <td>1.4</td>\n",
       "      <td>0.2</td>\n",
       "      <td>setosa</td>\n",
       "    </tr>\n",
       "    <tr>\n",
       "      <th>1</th>\n",
       "      <td>4.9</td>\n",
       "      <td>3.0</td>\n",
       "      <td>1.4</td>\n",
       "      <td>0.2</td>\n",
       "      <td>setosa</td>\n",
       "    </tr>\n",
       "    <tr>\n",
       "      <th>2</th>\n",
       "      <td>4.7</td>\n",
       "      <td>3.2</td>\n",
       "      <td>1.3</td>\n",
       "      <td>0.2</td>\n",
       "      <td>setosa</td>\n",
       "    </tr>\n",
       "    <tr>\n",
       "      <th>3</th>\n",
       "      <td>4.6</td>\n",
       "      <td>3.1</td>\n",
       "      <td>1.5</td>\n",
       "      <td>0.2</td>\n",
       "      <td>setosa</td>\n",
       "    </tr>\n",
       "    <tr>\n",
       "      <th>4</th>\n",
       "      <td>5.0</td>\n",
       "      <td>3.6</td>\n",
       "      <td>1.4</td>\n",
       "      <td>0.2</td>\n",
       "      <td>setosa</td>\n",
       "    </tr>\n",
       "    <tr>\n",
       "      <th>...</th>\n",
       "      <td>...</td>\n",
       "      <td>...</td>\n",
       "      <td>...</td>\n",
       "      <td>...</td>\n",
       "      <td>...</td>\n",
       "    </tr>\n",
       "    <tr>\n",
       "      <th>145</th>\n",
       "      <td>6.7</td>\n",
       "      <td>3.0</td>\n",
       "      <td>5.2</td>\n",
       "      <td>2.3</td>\n",
       "      <td>virginica</td>\n",
       "    </tr>\n",
       "    <tr>\n",
       "      <th>146</th>\n",
       "      <td>6.3</td>\n",
       "      <td>2.5</td>\n",
       "      <td>5.0</td>\n",
       "      <td>1.9</td>\n",
       "      <td>virginica</td>\n",
       "    </tr>\n",
       "    <tr>\n",
       "      <th>147</th>\n",
       "      <td>6.5</td>\n",
       "      <td>3.0</td>\n",
       "      <td>5.2</td>\n",
       "      <td>2.0</td>\n",
       "      <td>virginica</td>\n",
       "    </tr>\n",
       "    <tr>\n",
       "      <th>148</th>\n",
       "      <td>6.2</td>\n",
       "      <td>3.4</td>\n",
       "      <td>5.4</td>\n",
       "      <td>2.3</td>\n",
       "      <td>virginica</td>\n",
       "    </tr>\n",
       "    <tr>\n",
       "      <th>149</th>\n",
       "      <td>5.9</td>\n",
       "      <td>3.0</td>\n",
       "      <td>5.1</td>\n",
       "      <td>1.8</td>\n",
       "      <td>virginica</td>\n",
       "    </tr>\n",
       "  </tbody>\n",
       "</table>\n",
       "<p>150 rows × 5 columns</p>\n",
       "</div>"
      ],
      "text/plain": [
       "     Longitud_de_sepalo  Ancho_de_sepalo  Longitud_de_petalo  Ancho_de_petalo  \\\n",
       "0                   5.1              3.5                 1.4              0.2   \n",
       "1                   4.9              3.0                 1.4              0.2   \n",
       "2                   4.7              3.2                 1.3              0.2   \n",
       "3                   4.6              3.1                 1.5              0.2   \n",
       "4                   5.0              3.6                 1.4              0.2   \n",
       "..                  ...              ...                 ...              ...   \n",
       "145                 6.7              3.0                 5.2              2.3   \n",
       "146                 6.3              2.5                 5.0              1.9   \n",
       "147                 6.5              3.0                 5.2              2.0   \n",
       "148                 6.2              3.4                 5.4              2.3   \n",
       "149                 5.9              3.0                 5.1              1.8   \n",
       "\n",
       "       species  \n",
       "0       setosa  \n",
       "1       setosa  \n",
       "2       setosa  \n",
       "3       setosa  \n",
       "4       setosa  \n",
       "..         ...  \n",
       "145  virginica  \n",
       "146  virginica  \n",
       "147  virginica  \n",
       "148  virginica  \n",
       "149  virginica  \n",
       "\n",
       "[150 rows x 5 columns]"
      ]
     },
     "execution_count": 16,
     "metadata": {},
     "output_type": "execute_result"
    }
   ],
   "source": [
    "data"
   ]
  },
  {
   "cell_type": "code",
   "execution_count": 17,
   "id": "e615dbc9",
   "metadata": {},
   "outputs": [
    {
     "data": {
      "text/html": [
       "<div>\n",
       "<style scoped>\n",
       "    .dataframe tbody tr th:only-of-type {\n",
       "        vertical-align: middle;\n",
       "    }\n",
       "\n",
       "    .dataframe tbody tr th {\n",
       "        vertical-align: top;\n",
       "    }\n",
       "\n",
       "    .dataframe thead th {\n",
       "        text-align: right;\n",
       "    }\n",
       "</style>\n",
       "<table border=\"1\" class=\"dataframe\">\n",
       "  <thead>\n",
       "    <tr style=\"text-align: right;\">\n",
       "      <th></th>\n",
       "      <th>count</th>\n",
       "      <th>mean</th>\n",
       "      <th>std</th>\n",
       "      <th>min</th>\n",
       "      <th>25%</th>\n",
       "      <th>50%</th>\n",
       "      <th>75%</th>\n",
       "      <th>max</th>\n",
       "    </tr>\n",
       "    <tr>\n",
       "      <th>species</th>\n",
       "      <th></th>\n",
       "      <th></th>\n",
       "      <th></th>\n",
       "      <th></th>\n",
       "      <th></th>\n",
       "      <th></th>\n",
       "      <th></th>\n",
       "      <th></th>\n",
       "    </tr>\n",
       "  </thead>\n",
       "  <tbody>\n",
       "    <tr>\n",
       "      <th>setosa</th>\n",
       "      <td>50.0</td>\n",
       "      <td>1.462</td>\n",
       "      <td>0.173664</td>\n",
       "      <td>1.0</td>\n",
       "      <td>1.4</td>\n",
       "      <td>1.50</td>\n",
       "      <td>1.575</td>\n",
       "      <td>1.9</td>\n",
       "    </tr>\n",
       "    <tr>\n",
       "      <th>versicolor</th>\n",
       "      <td>50.0</td>\n",
       "      <td>4.260</td>\n",
       "      <td>0.469911</td>\n",
       "      <td>3.0</td>\n",
       "      <td>4.0</td>\n",
       "      <td>4.35</td>\n",
       "      <td>4.600</td>\n",
       "      <td>5.1</td>\n",
       "    </tr>\n",
       "    <tr>\n",
       "      <th>virginica</th>\n",
       "      <td>50.0</td>\n",
       "      <td>5.552</td>\n",
       "      <td>0.551895</td>\n",
       "      <td>4.5</td>\n",
       "      <td>5.1</td>\n",
       "      <td>5.55</td>\n",
       "      <td>5.875</td>\n",
       "      <td>6.9</td>\n",
       "    </tr>\n",
       "  </tbody>\n",
       "</table>\n",
       "</div>"
      ],
      "text/plain": [
       "            count   mean       std  min  25%   50%    75%  max\n",
       "species                                                       \n",
       "setosa       50.0  1.462  0.173664  1.0  1.4  1.50  1.575  1.9\n",
       "versicolor   50.0  4.260  0.469911  3.0  4.0  4.35  4.600  5.1\n",
       "virginica    50.0  5.552  0.551895  4.5  5.1  5.55  5.875  6.9"
      ]
     },
     "execution_count": 17,
     "metadata": {},
     "output_type": "execute_result"
    }
   ],
   "source": [
    "data.groupby('species')['Longitud_de_petalo'].describe()"
   ]
  },
  {
   "cell_type": "markdown",
   "id": "61870da9",
   "metadata": {},
   "source": [
    "### Estandarizacion de datos"
   ]
  },
  {
   "cell_type": "code",
   "execution_count": 18,
   "id": "6a384e32",
   "metadata": {},
   "outputs": [],
   "source": [
    "from sklearn.preprocessing import StandardScaler"
   ]
  },
  {
   "cell_type": "code",
   "execution_count": 19,
   "id": "7f09fa3e",
   "metadata": {},
   "outputs": [],
   "source": [
    "scaler = StandardScaler()"
   ]
  },
  {
   "cell_type": "code",
   "execution_count": 20,
   "id": "d78cd307",
   "metadata": {},
   "outputs": [],
   "source": [
    "col_a_escalar = ['Longitud_de_petalo', 'Ancho_de_petalo', 'Longitud_de_sepalo', 'Ancho_de_sepalo']"
   ]
  },
  {
   "cell_type": "code",
   "execution_count": 21,
   "id": "d1383797",
   "metadata": {},
   "outputs": [],
   "source": [
    "datos_a_escalar = data.copy()"
   ]
  },
  {
   "cell_type": "code",
   "execution_count": 22,
   "id": "3b8dc9e3",
   "metadata": {},
   "outputs": [],
   "source": [
    "datos_a_escalar[col_a_escalar]=scaler.fit_transform(data[col_a_escalar])"
   ]
  },
  {
   "cell_type": "code",
   "execution_count": 23,
   "id": "42ae1b1c",
   "metadata": {},
   "outputs": [
    {
     "data": {
      "text/html": [
       "<div>\n",
       "<style scoped>\n",
       "    .dataframe tbody tr th:only-of-type {\n",
       "        vertical-align: middle;\n",
       "    }\n",
       "\n",
       "    .dataframe tbody tr th {\n",
       "        vertical-align: top;\n",
       "    }\n",
       "\n",
       "    .dataframe thead th {\n",
       "        text-align: right;\n",
       "    }\n",
       "</style>\n",
       "<table border=\"1\" class=\"dataframe\">\n",
       "  <thead>\n",
       "    <tr style=\"text-align: right;\">\n",
       "      <th></th>\n",
       "      <th>Longitud_de_sepalo</th>\n",
       "      <th>Ancho_de_sepalo</th>\n",
       "      <th>Longitud_de_petalo</th>\n",
       "      <th>Ancho_de_petalo</th>\n",
       "      <th>species</th>\n",
       "    </tr>\n",
       "  </thead>\n",
       "  <tbody>\n",
       "    <tr>\n",
       "      <th>0</th>\n",
       "      <td>5.1</td>\n",
       "      <td>3.5</td>\n",
       "      <td>1.4</td>\n",
       "      <td>0.2</td>\n",
       "      <td>setosa</td>\n",
       "    </tr>\n",
       "    <tr>\n",
       "      <th>1</th>\n",
       "      <td>4.9</td>\n",
       "      <td>3.0</td>\n",
       "      <td>1.4</td>\n",
       "      <td>0.2</td>\n",
       "      <td>setosa</td>\n",
       "    </tr>\n",
       "    <tr>\n",
       "      <th>2</th>\n",
       "      <td>4.7</td>\n",
       "      <td>3.2</td>\n",
       "      <td>1.3</td>\n",
       "      <td>0.2</td>\n",
       "      <td>setosa</td>\n",
       "    </tr>\n",
       "    <tr>\n",
       "      <th>3</th>\n",
       "      <td>4.6</td>\n",
       "      <td>3.1</td>\n",
       "      <td>1.5</td>\n",
       "      <td>0.2</td>\n",
       "      <td>setosa</td>\n",
       "    </tr>\n",
       "    <tr>\n",
       "      <th>4</th>\n",
       "      <td>5.0</td>\n",
       "      <td>3.6</td>\n",
       "      <td>1.4</td>\n",
       "      <td>0.2</td>\n",
       "      <td>setosa</td>\n",
       "    </tr>\n",
       "    <tr>\n",
       "      <th>5</th>\n",
       "      <td>5.4</td>\n",
       "      <td>3.9</td>\n",
       "      <td>1.7</td>\n",
       "      <td>0.4</td>\n",
       "      <td>setosa</td>\n",
       "    </tr>\n",
       "    <tr>\n",
       "      <th>6</th>\n",
       "      <td>4.6</td>\n",
       "      <td>3.4</td>\n",
       "      <td>1.4</td>\n",
       "      <td>0.3</td>\n",
       "      <td>setosa</td>\n",
       "    </tr>\n",
       "    <tr>\n",
       "      <th>7</th>\n",
       "      <td>5.0</td>\n",
       "      <td>3.4</td>\n",
       "      <td>1.5</td>\n",
       "      <td>0.2</td>\n",
       "      <td>setosa</td>\n",
       "    </tr>\n",
       "    <tr>\n",
       "      <th>8</th>\n",
       "      <td>4.4</td>\n",
       "      <td>2.9</td>\n",
       "      <td>1.4</td>\n",
       "      <td>0.2</td>\n",
       "      <td>setosa</td>\n",
       "    </tr>\n",
       "    <tr>\n",
       "      <th>9</th>\n",
       "      <td>4.9</td>\n",
       "      <td>3.1</td>\n",
       "      <td>1.5</td>\n",
       "      <td>0.1</td>\n",
       "      <td>setosa</td>\n",
       "    </tr>\n",
       "  </tbody>\n",
       "</table>\n",
       "</div>"
      ],
      "text/plain": [
       "   Longitud_de_sepalo  Ancho_de_sepalo  Longitud_de_petalo  Ancho_de_petalo  \\\n",
       "0                 5.1              3.5                 1.4              0.2   \n",
       "1                 4.9              3.0                 1.4              0.2   \n",
       "2                 4.7              3.2                 1.3              0.2   \n",
       "3                 4.6              3.1                 1.5              0.2   \n",
       "4                 5.0              3.6                 1.4              0.2   \n",
       "5                 5.4              3.9                 1.7              0.4   \n",
       "6                 4.6              3.4                 1.4              0.3   \n",
       "7                 5.0              3.4                 1.5              0.2   \n",
       "8                 4.4              2.9                 1.4              0.2   \n",
       "9                 4.9              3.1                 1.5              0.1   \n",
       "\n",
       "  species  \n",
       "0  setosa  \n",
       "1  setosa  \n",
       "2  setosa  \n",
       "3  setosa  \n",
       "4  setosa  \n",
       "5  setosa  \n",
       "6  setosa  \n",
       "7  setosa  \n",
       "8  setosa  \n",
       "9  setosa  "
      ]
     },
     "execution_count": 23,
     "metadata": {},
     "output_type": "execute_result"
    }
   ],
   "source": [
    "data.head(10)"
   ]
  },
  {
   "cell_type": "code",
   "execution_count": 24,
   "id": "ca6e06c7",
   "metadata": {},
   "outputs": [
    {
     "data": {
      "text/html": [
       "<div>\n",
       "<style scoped>\n",
       "    .dataframe tbody tr th:only-of-type {\n",
       "        vertical-align: middle;\n",
       "    }\n",
       "\n",
       "    .dataframe tbody tr th {\n",
       "        vertical-align: top;\n",
       "    }\n",
       "\n",
       "    .dataframe thead th {\n",
       "        text-align: right;\n",
       "    }\n",
       "</style>\n",
       "<table border=\"1\" class=\"dataframe\">\n",
       "  <thead>\n",
       "    <tr style=\"text-align: right;\">\n",
       "      <th></th>\n",
       "      <th>Longitud_de_sepalo</th>\n",
       "      <th>Ancho_de_sepalo</th>\n",
       "      <th>Longitud_de_petalo</th>\n",
       "      <th>Ancho_de_petalo</th>\n",
       "      <th>species</th>\n",
       "    </tr>\n",
       "  </thead>\n",
       "  <tbody>\n",
       "    <tr>\n",
       "      <th>0</th>\n",
       "      <td>-0.900681</td>\n",
       "      <td>1.019004</td>\n",
       "      <td>-1.340227</td>\n",
       "      <td>-1.315444</td>\n",
       "      <td>setosa</td>\n",
       "    </tr>\n",
       "    <tr>\n",
       "      <th>1</th>\n",
       "      <td>-1.143017</td>\n",
       "      <td>-0.131979</td>\n",
       "      <td>-1.340227</td>\n",
       "      <td>-1.315444</td>\n",
       "      <td>setosa</td>\n",
       "    </tr>\n",
       "    <tr>\n",
       "      <th>2</th>\n",
       "      <td>-1.385353</td>\n",
       "      <td>0.328414</td>\n",
       "      <td>-1.397064</td>\n",
       "      <td>-1.315444</td>\n",
       "      <td>setosa</td>\n",
       "    </tr>\n",
       "    <tr>\n",
       "      <th>3</th>\n",
       "      <td>-1.506521</td>\n",
       "      <td>0.098217</td>\n",
       "      <td>-1.283389</td>\n",
       "      <td>-1.315444</td>\n",
       "      <td>setosa</td>\n",
       "    </tr>\n",
       "    <tr>\n",
       "      <th>4</th>\n",
       "      <td>-1.021849</td>\n",
       "      <td>1.249201</td>\n",
       "      <td>-1.340227</td>\n",
       "      <td>-1.315444</td>\n",
       "      <td>setosa</td>\n",
       "    </tr>\n",
       "    <tr>\n",
       "      <th>5</th>\n",
       "      <td>-0.537178</td>\n",
       "      <td>1.939791</td>\n",
       "      <td>-1.169714</td>\n",
       "      <td>-1.052180</td>\n",
       "      <td>setosa</td>\n",
       "    </tr>\n",
       "    <tr>\n",
       "      <th>6</th>\n",
       "      <td>-1.506521</td>\n",
       "      <td>0.788808</td>\n",
       "      <td>-1.340227</td>\n",
       "      <td>-1.183812</td>\n",
       "      <td>setosa</td>\n",
       "    </tr>\n",
       "    <tr>\n",
       "      <th>7</th>\n",
       "      <td>-1.021849</td>\n",
       "      <td>0.788808</td>\n",
       "      <td>-1.283389</td>\n",
       "      <td>-1.315444</td>\n",
       "      <td>setosa</td>\n",
       "    </tr>\n",
       "    <tr>\n",
       "      <th>8</th>\n",
       "      <td>-1.748856</td>\n",
       "      <td>-0.362176</td>\n",
       "      <td>-1.340227</td>\n",
       "      <td>-1.315444</td>\n",
       "      <td>setosa</td>\n",
       "    </tr>\n",
       "    <tr>\n",
       "      <th>9</th>\n",
       "      <td>-1.143017</td>\n",
       "      <td>0.098217</td>\n",
       "      <td>-1.283389</td>\n",
       "      <td>-1.447076</td>\n",
       "      <td>setosa</td>\n",
       "    </tr>\n",
       "  </tbody>\n",
       "</table>\n",
       "</div>"
      ],
      "text/plain": [
       "   Longitud_de_sepalo  Ancho_de_sepalo  Longitud_de_petalo  Ancho_de_petalo  \\\n",
       "0           -0.900681         1.019004           -1.340227        -1.315444   \n",
       "1           -1.143017        -0.131979           -1.340227        -1.315444   \n",
       "2           -1.385353         0.328414           -1.397064        -1.315444   \n",
       "3           -1.506521         0.098217           -1.283389        -1.315444   \n",
       "4           -1.021849         1.249201           -1.340227        -1.315444   \n",
       "5           -0.537178         1.939791           -1.169714        -1.052180   \n",
       "6           -1.506521         0.788808           -1.340227        -1.183812   \n",
       "7           -1.021849         0.788808           -1.283389        -1.315444   \n",
       "8           -1.748856        -0.362176           -1.340227        -1.315444   \n",
       "9           -1.143017         0.098217           -1.283389        -1.447076   \n",
       "\n",
       "  species  \n",
       "0  setosa  \n",
       "1  setosa  \n",
       "2  setosa  \n",
       "3  setosa  \n",
       "4  setosa  \n",
       "5  setosa  \n",
       "6  setosa  \n",
       "7  setosa  \n",
       "8  setosa  \n",
       "9  setosa  "
      ]
     },
     "execution_count": 24,
     "metadata": {},
     "output_type": "execute_result"
    }
   ],
   "source": [
    "datos_a_escalar.head(10)"
   ]
  },
  {
   "cell_type": "code",
   "execution_count": 25,
   "id": "340df214",
   "metadata": {},
   "outputs": [
    {
     "data": {
      "image/png": "[encoded data removed]",
      "text/plain": [
       "<Figure size 432x288 with 1 Axes>"
      ]
     },
     "metadata": {},
     "output_type": "display_data"
    }
   ],
   "source": [
    "data.Longitud_de_petalo.plot.hist()\n",
    "plt.xlabel('Longitud de petalo');"
   ]
  },
  {
   "cell_type": "code",
   "execution_count": 26,
   "id": "535b06bc",
   "metadata": {},
   "outputs": [
    {
     "data": {
      "image/png": "[encoded data removed]",
      "text/plain": [
       "<Figure size 432x288 with 1 Axes>"
      ]
     },
     "metadata": {},
     "output_type": "display_data"
    }
   ],
   "source": [
    "data.Longitud_de_petalo.plot.hist()\n",
    "plt.xlabel('Longitud de petalo');"
   ]
  },
  {
   "cell_type": "code",
   "execution_count": 27,
   "id": "c01437c2",
   "metadata": {},
   "outputs": [
    {
     "data": {
      "text/html": [
       "<div>\n",
       "<style scoped>\n",
       "    .dataframe tbody tr th:only-of-type {\n",
       "        vertical-align: middle;\n",
       "    }\n",
       "\n",
       "    .dataframe tbody tr th {\n",
       "        vertical-align: top;\n",
       "    }\n",
       "\n",
       "    .dataframe thead th {\n",
       "        text-align: right;\n",
       "    }\n",
       "</style>\n",
       "<table border=\"1\" class=\"dataframe\">\n",
       "  <thead>\n",
       "    <tr style=\"text-align: right;\">\n",
       "      <th></th>\n",
       "      <th>Longitud_de_petalo</th>\n",
       "      <th>Ancho_de_petalo</th>\n",
       "      <th>Longitud_de_sepalo</th>\n",
       "    </tr>\n",
       "  </thead>\n",
       "  <tbody>\n",
       "    <tr>\n",
       "      <th>0</th>\n",
       "      <td>-1.340227</td>\n",
       "      <td>-1.315444</td>\n",
       "      <td>-0.900681</td>\n",
       "    </tr>\n",
       "    <tr>\n",
       "      <th>1</th>\n",
       "      <td>-1.340227</td>\n",
       "      <td>-1.315444</td>\n",
       "      <td>-1.143017</td>\n",
       "    </tr>\n",
       "    <tr>\n",
       "      <th>2</th>\n",
       "      <td>-1.397064</td>\n",
       "      <td>-1.315444</td>\n",
       "      <td>-1.385353</td>\n",
       "    </tr>\n",
       "    <tr>\n",
       "      <th>3</th>\n",
       "      <td>-1.283389</td>\n",
       "      <td>-1.315444</td>\n",
       "      <td>-1.506521</td>\n",
       "    </tr>\n",
       "    <tr>\n",
       "      <th>4</th>\n",
       "      <td>-1.340227</td>\n",
       "      <td>-1.315444</td>\n",
       "      <td>-1.021849</td>\n",
       "    </tr>\n",
       "  </tbody>\n",
       "</table>\n",
       "</div>"
      ],
      "text/plain": [
       "   Longitud_de_petalo  Ancho_de_petalo  Longitud_de_sepalo\n",
       "0           -1.340227        -1.315444           -0.900681\n",
       "1           -1.340227        -1.315444           -1.143017\n",
       "2           -1.397064        -1.315444           -1.385353\n",
       "3           -1.283389        -1.315444           -1.506521\n",
       "4           -1.340227        -1.315444           -1.021849"
      ]
     },
     "execution_count": 27,
     "metadata": {},
     "output_type": "execute_result"
    }
   ],
   "source": [
    "cluster_cols =['Longitud_de_petalo', 'Ancho_de_petalo', 'Longitud_de_sepalo']\n",
    "datos_a_escalar[cluster_cols].head()"
   ]
  },
  {
   "cell_type": "markdown",
   "id": "7a39b597",
   "metadata": {},
   "source": [
    "# Uso de KMeans"
   ]
  },
  {
   "cell_type": "code",
   "execution_count": 28,
   "id": "57954b81",
   "metadata": {},
   "outputs": [],
   "source": [
    "from sklearn.cluster import KMeans"
   ]
  },
  {
   "cell_type": "code",
   "execution_count": 29,
   "id": "3e0e8076",
   "metadata": {},
   "outputs": [],
   "source": [
    "modelo = KMeans(n_clusters=3, random_state=42)\n"
   ]
  },
  {
   "cell_type": "code",
   "execution_count": 31,
   "id": "542ced03",
   "metadata": {},
   "outputs": [
    {
     "data": {
      "text/plain": [
       "KMeans(n_clusters=3, random_state=42)"
      ]
     },
     "execution_count": 31,
     "metadata": {},
     "output_type": "execute_result"
    }
   ],
   "source": [
    "modelo.fit(datos_a_escalar[cluster_cols])"
   ]
  },
  {
   "cell_type": "code",
   "execution_count": 32,
   "id": "9630dc5a",
   "metadata": {},
   "outputs": [
    {
     "data": {
      "text/html": [
       "<div>\n",
       "<style scoped>\n",
       "    .dataframe tbody tr th:only-of-type {\n",
       "        vertical-align: middle;\n",
       "    }\n",
       "\n",
       "    .dataframe tbody tr th {\n",
       "        vertical-align: top;\n",
       "    }\n",
       "\n",
       "    .dataframe thead th {\n",
       "        text-align: right;\n",
       "    }\n",
       "</style>\n",
       "<table border=\"1\" class=\"dataframe\">\n",
       "  <thead>\n",
       "    <tr style=\"text-align: right;\">\n",
       "      <th></th>\n",
       "      <th>Longitud_de_petalo</th>\n",
       "      <th>Ancho_de_petalo</th>\n",
       "      <th>Longitud_de_sepalo</th>\n",
       "    </tr>\n",
       "  </thead>\n",
       "  <tbody>\n",
       "    <tr>\n",
       "      <th>0</th>\n",
       "      <td>-1.340227</td>\n",
       "      <td>-1.315444</td>\n",
       "      <td>-0.900681</td>\n",
       "    </tr>\n",
       "    <tr>\n",
       "      <th>1</th>\n",
       "      <td>-1.340227</td>\n",
       "      <td>-1.315444</td>\n",
       "      <td>-1.143017</td>\n",
       "    </tr>\n",
       "    <tr>\n",
       "      <th>2</th>\n",
       "      <td>-1.397064</td>\n",
       "      <td>-1.315444</td>\n",
       "      <td>-1.385353</td>\n",
       "    </tr>\n",
       "    <tr>\n",
       "      <th>3</th>\n",
       "      <td>-1.283389</td>\n",
       "      <td>-1.315444</td>\n",
       "      <td>-1.506521</td>\n",
       "    </tr>\n",
       "    <tr>\n",
       "      <th>4</th>\n",
       "      <td>-1.340227</td>\n",
       "      <td>-1.315444</td>\n",
       "      <td>-1.021849</td>\n",
       "    </tr>\n",
       "  </tbody>\n",
       "</table>\n",
       "</div>"
      ],
      "text/plain": [
       "   Longitud_de_petalo  Ancho_de_petalo  Longitud_de_sepalo\n",
       "0           -1.340227        -1.315444           -0.900681\n",
       "1           -1.340227        -1.315444           -1.143017\n",
       "2           -1.397064        -1.315444           -1.385353\n",
       "3           -1.283389        -1.315444           -1.506521\n",
       "4           -1.340227        -1.315444           -1.021849"
      ]
     },
     "execution_count": 32,
     "metadata": {},
     "output_type": "execute_result"
    }
   ],
   "source": [
    "clusters_cols=['Longitud_de_petalo', 'Ancho_de_petalo', 'Longitud_de_sepalo']\n",
    "datos_a_escalar[clusters_cols].head()"
   ]
  },
  {
   "cell_type": "code",
   "execution_count": 33,
   "id": "babee773",
   "metadata": {},
   "outputs": [
    {
     "data": {
      "text/plain": [
       "KMeans(n_clusters=3, random_state=42)"
      ]
     },
     "execution_count": 33,
     "metadata": {},
     "output_type": "execute_result"
    }
   ],
   "source": [
    "modelo2 = KMeans(n_clusters=3, random_state=42)\n",
    "modelo2.fit(datos_a_escalar[clusters_cols])"
   ]
  },
  {
   "cell_type": "code",
   "execution_count": 34,
   "id": "5a3cf8b8",
   "metadata": {},
   "outputs": [],
   "source": [
    "datos_a_escalar['Cluster3']=modelo2.predict(datos_a_escalar[clusters_cols])"
   ]
  },
  {
   "cell_type": "code",
   "execution_count": 35,
   "id": "fd7e6286",
   "metadata": {},
   "outputs": [
    {
     "data": {
      "text/html": [
       "<div>\n",
       "<style scoped>\n",
       "    .dataframe tbody tr th:only-of-type {\n",
       "        vertical-align: middle;\n",
       "    }\n",
       "\n",
       "    .dataframe tbody tr th {\n",
       "        vertical-align: top;\n",
       "    }\n",
       "\n",
       "    .dataframe thead th {\n",
       "        text-align: right;\n",
       "    }\n",
       "</style>\n",
       "<table border=\"1\" class=\"dataframe\">\n",
       "  <thead>\n",
       "    <tr style=\"text-align: right;\">\n",
       "      <th></th>\n",
       "      <th>Longitud_de_sepalo</th>\n",
       "      <th>Ancho_de_sepalo</th>\n",
       "      <th>Longitud_de_petalo</th>\n",
       "      <th>Ancho_de_petalo</th>\n",
       "      <th>species</th>\n",
       "      <th>Cluster3</th>\n",
       "    </tr>\n",
       "  </thead>\n",
       "  <tbody>\n",
       "    <tr>\n",
       "      <th>0</th>\n",
       "      <td>-0.900681</td>\n",
       "      <td>1.019004</td>\n",
       "      <td>-1.340227</td>\n",
       "      <td>-1.315444</td>\n",
       "      <td>setosa</td>\n",
       "      <td>1</td>\n",
       "    </tr>\n",
       "    <tr>\n",
       "      <th>1</th>\n",
       "      <td>-1.143017</td>\n",
       "      <td>-0.131979</td>\n",
       "      <td>-1.340227</td>\n",
       "      <td>-1.315444</td>\n",
       "      <td>setosa</td>\n",
       "      <td>1</td>\n",
       "    </tr>\n",
       "    <tr>\n",
       "      <th>2</th>\n",
       "      <td>-1.385353</td>\n",
       "      <td>0.328414</td>\n",
       "      <td>-1.397064</td>\n",
       "      <td>-1.315444</td>\n",
       "      <td>setosa</td>\n",
       "      <td>1</td>\n",
       "    </tr>\n",
       "    <tr>\n",
       "      <th>3</th>\n",
       "      <td>-1.506521</td>\n",
       "      <td>0.098217</td>\n",
       "      <td>-1.283389</td>\n",
       "      <td>-1.315444</td>\n",
       "      <td>setosa</td>\n",
       "      <td>1</td>\n",
       "    </tr>\n",
       "    <tr>\n",
       "      <th>4</th>\n",
       "      <td>-1.021849</td>\n",
       "      <td>1.249201</td>\n",
       "      <td>-1.340227</td>\n",
       "      <td>-1.315444</td>\n",
       "      <td>setosa</td>\n",
       "      <td>1</td>\n",
       "    </tr>\n",
       "    <tr>\n",
       "      <th>...</th>\n",
       "      <td>...</td>\n",
       "      <td>...</td>\n",
       "      <td>...</td>\n",
       "      <td>...</td>\n",
       "      <td>...</td>\n",
       "      <td>...</td>\n",
       "    </tr>\n",
       "    <tr>\n",
       "      <th>145</th>\n",
       "      <td>1.038005</td>\n",
       "      <td>-0.131979</td>\n",
       "      <td>0.819596</td>\n",
       "      <td>1.448832</td>\n",
       "      <td>virginica</td>\n",
       "      <td>0</td>\n",
       "    </tr>\n",
       "    <tr>\n",
       "      <th>146</th>\n",
       "      <td>0.553333</td>\n",
       "      <td>-1.282963</td>\n",
       "      <td>0.705921</td>\n",
       "      <td>0.922303</td>\n",
       "      <td>virginica</td>\n",
       "      <td>0</td>\n",
       "    </tr>\n",
       "    <tr>\n",
       "      <th>147</th>\n",
       "      <td>0.795669</td>\n",
       "      <td>-0.131979</td>\n",
       "      <td>0.819596</td>\n",
       "      <td>1.053935</td>\n",
       "      <td>virginica</td>\n",
       "      <td>0</td>\n",
       "    </tr>\n",
       "    <tr>\n",
       "      <th>148</th>\n",
       "      <td>0.432165</td>\n",
       "      <td>0.788808</td>\n",
       "      <td>0.933271</td>\n",
       "      <td>1.448832</td>\n",
       "      <td>virginica</td>\n",
       "      <td>0</td>\n",
       "    </tr>\n",
       "    <tr>\n",
       "      <th>149</th>\n",
       "      <td>0.068662</td>\n",
       "      <td>-0.131979</td>\n",
       "      <td>0.762758</td>\n",
       "      <td>0.790671</td>\n",
       "      <td>virginica</td>\n",
       "      <td>2</td>\n",
       "    </tr>\n",
       "  </tbody>\n",
       "</table>\n",
       "<p>150 rows × 6 columns</p>\n",
       "</div>"
      ],
      "text/plain": [
       "     Longitud_de_sepalo  Ancho_de_sepalo  Longitud_de_petalo  Ancho_de_petalo  \\\n",
       "0             -0.900681         1.019004           -1.340227        -1.315444   \n",
       "1             -1.143017        -0.131979           -1.340227        -1.315444   \n",
       "2             -1.385353         0.328414           -1.397064        -1.315444   \n",
       "3             -1.506521         0.098217           -1.283389        -1.315444   \n",
       "4             -1.021849         1.249201           -1.340227        -1.315444   \n",
       "..                  ...              ...                 ...              ...   \n",
       "145            1.038005        -0.131979            0.819596         1.448832   \n",
       "146            0.553333        -1.282963            0.705921         0.922303   \n",
       "147            0.795669        -0.131979            0.819596         1.053935   \n",
       "148            0.432165         0.788808            0.933271         1.448832   \n",
       "149            0.068662        -0.131979            0.762758         0.790671   \n",
       "\n",
       "       species  Cluster3  \n",
       "0       setosa         1  \n",
       "1       setosa         1  \n",
       "2       setosa         1  \n",
       "3       setosa         1  \n",
       "4       setosa         1  \n",
       "..         ...       ...  \n",
       "145  virginica         0  \n",
       "146  virginica         0  \n",
       "147  virginica         0  \n",
       "148  virginica         0  \n",
       "149  virginica         2  \n",
       "\n",
       "[150 rows x 6 columns]"
      ]
     },
     "execution_count": 35,
     "metadata": {},
     "output_type": "execute_result"
    }
   ],
   "source": [
    "datos_a_escalar"
   ]
  },
  {
   "cell_type": "code",
   "execution_count": 36,
   "id": "c7c3a918",
   "metadata": {},
   "outputs": [],
   "source": [
    "from sklearn import decomposition"
   ]
  },
  {
   "cell_type": "code",
   "execution_count": 37,
   "id": "d07418f6",
   "metadata": {},
   "outputs": [],
   "source": [
    "pca=decomposition.PCA(n_components=2)\n",
    "pca_res = pca.fit_transform(datos_a_escalar[clusters_cols])"
   ]
  },
  {
   "cell_type": "code",
   "execution_count": 38,
   "id": "3c733bac",
   "metadata": {},
   "outputs": [
    {
     "data": {
      "text/plain": [
       "array([[-2.06036006e+00, -2.98674403e-01],\n",
       "       [-2.19598120e+00, -1.01727066e-01],\n",
       "       [-2.36522102e+00,  8.07491332e-02],\n",
       "       [-2.36579421e+00,  2.08165079e-01],\n",
       "       [-2.12817063e+00, -2.00200734e-01],\n",
       "       [-1.60325585e+00, -4.12703496e-01],\n",
       "       [-2.32300467e+00,  2.62683189e-01],\n",
       "       [-2.09455194e+00, -1.85729596e-01],\n",
       "       [-2.53503403e+00,  3.90641278e-01],\n",
       "       [-2.23877073e+00, -1.56245176e-01],\n",
       "       [-1.82330967e+00, -5.79624270e-01],\n",
       "       [-2.19655439e+00,  2.56888802e-02],\n",
       "       [-2.34019999e+00, -7.22426457e-02],\n",
       "       [-2.78010889e+00,  3.76712282e-01],\n",
       "       [-1.65292347e+00, -1.01693236e+00],\n",
       "       [-1.46706152e+00, -7.37066779e-01],\n",
       "       [-1.73773060e+00, -4.70588050e-01],\n",
       "       [-1.98395184e+00, -2.29685154e-01],\n",
       "       [-1.47623237e+00, -7.77113751e-01],\n",
       "       [-1.95033315e+00, -2.15214016e-01],\n",
       "       [-1.75607230e+00, -5.50681993e-01],\n",
       "       [-1.87392492e+00, -1.46224767e-01],\n",
       "       [-2.53388765e+00,  1.35809386e-01],\n",
       "       [-1.73027932e+00, -4.82932410e-02],\n",
       "       [-2.09569833e+00,  6.91022960e-02],\n",
       "       [-2.06093325e+00, -1.71258457e-01],\n",
       "       [-1.90811680e+00, -3.32799596e-02],\n",
       "       [-1.95893081e+00, -3.82676933e-01],\n",
       "       [-1.99254949e+00, -3.97148072e-01],\n",
       "       [-2.26436496e+00,  1.24162549e-01],\n",
       "       [-2.19655439e+00,  2.56888802e-02],\n",
       "       [-1.67049322e+00, -4.41645773e-01],\n",
       "       [-2.03533903e+00, -4.51666182e-01],\n",
       "       [-1.78911779e+00, -6.92569078e-01],\n",
       "       [-2.16236251e+00, -8.72559270e-02],\n",
       "       [-2.19540800e+00, -2.29143011e-01],\n",
       "       [-1.82273648e+00, -7.07040216e-01],\n",
       "       [-2.27238942e+00, -1.70716314e-01],\n",
       "       [-2.56865272e+00,  3.76170139e-01],\n",
       "       [-2.02674137e+00, -2.84203264e-01],\n",
       "       [-2.08538109e+00, -1.45682624e-01],\n",
       "       [-2.42443393e+00,  3.46685719e-01],\n",
       "       [-2.56865272e+00,  3.76170139e-01],\n",
       "       [-1.75530035e+00,  1.04698538e-01],\n",
       "       [-1.73945018e+00, -8.83402126e-02],\n",
       "       [-2.18738354e+00,  6.57358518e-02],\n",
       "       [-1.99312269e+00, -2.69732126e-01],\n",
       "       [-2.39941290e+00,  1.93693940e-01],\n",
       "       [-1.89112024e+00, -4.81150602e-01],\n",
       "       [-2.12817063e+00, -2.00200734e-01],\n",
       "       [ 1.25435610e+00, -8.64255550e-01],\n",
       "       [ 8.56663549e-01, -2.33366566e-01],\n",
       "       [ 1.33019114e+00, -6.67850355e-01],\n",
       "       [-7.45414445e-02,  4.42562262e-01],\n",
       "       [ 9.58092804e-01, -3.17369096e-01],\n",
       "       [ 2.29173127e-01,  3.17970617e-01],\n",
       "       [ 9.32498581e-01, -3.69613716e-02],\n",
       "       [-9.45960336e-01,  7.25138557e-01],\n",
       "       [ 8.73086921e-01, -5.53821262e-01],\n",
       "       [-2.35183609e-01,  7.92501378e-01],\n",
       "       [-8.10912393e-01,  6.55607166e-01],\n",
       "       [ 4.16754650e-01,  2.15588362e-01],\n",
       "       [ 3.52867174e-02, -2.56773828e-01],\n",
       "       [ 6.44060997e-01,  2.20074683e-02],\n",
       "       [-1.41205627e-01,  2.86204039e-01],\n",
       "       [ 9.50068339e-01, -6.12247960e-01],\n",
       "       [ 3.14179010e-01,  5.54422783e-01],\n",
       "       [-6.67157299e-02, -4.53553521e-02],\n",
       "       [ 7.21042414e-01, -3.64192288e-02],\n",
       "       [-1.93166015e-01,  1.91638957e-01],\n",
       "       [ 8.47691449e-01,  5.09382939e-01],\n",
       "       [ 3.32321960e-01, -1.48279751e-01],\n",
       "       [ 9.23327731e-01, -7.70083432e-02],\n",
       "       [ 4.91244547e-01, -1.15971029e-01],\n",
       "       [ 6.36609724e-01, -4.00287341e-01],\n",
       "       [ 8.82257771e-01, -5.13774291e-01],\n",
       "       [ 1.15235366e+00, -6.52837074e-01],\n",
       "       [ 1.38100514e+00, -3.18453382e-01],\n",
       "       [ 5.85421279e-01,  1.60528109e-01],\n",
       "       [-3.36238422e-01, -3.37085149e-02],\n",
       "       [-2.94595269e-01,  2.75641487e-01],\n",
       "       [-4.04622182e-01,  1.92181100e-01],\n",
       "       [ 1.88633451e-02,  6.36808682e-02],\n",
       "       [ 8.63541629e-01,  3.16344189e-01],\n",
       "       [ 1.78557875e-01,  7.51370121e-01],\n",
       "       [ 6.61829504e-01,  2.29517357e-01],\n",
       "       [ 1.12733263e+00, -4.99845295e-01],\n",
       "       [ 6.02417844e-01, -2.87342534e-01],\n",
       "       [ 2.68878103e-02,  3.58559731e-01],\n",
       "       [-7.45414445e-02,  4.42562262e-01],\n",
       "       [-1.64749198e-02,  4.31457567e-01],\n",
       "       [ 6.10442309e-01,  7.53632971e-03],\n",
       "       [ 5.24820326e-02,  7.81520068e-02],\n",
       "       [-8.78149768e-01,  6.26664889e-01],\n",
       "       [ 6.05064977e-02,  3.73030870e-01],\n",
       "       [ 5.19088401e-02,  2.05567953e-01],\n",
       "       [ 1.28317065e-01,  2.74557201e-01],\n",
       "       [ 5.00988589e-01, -2.03340003e-01],\n",
       "       [-8.34787038e-01,  5.53767053e-01],\n",
       "       [ 9.46983776e-02,  2.60086063e-01],\n",
       "       [ 2.05721554e+00,  7.72066669e-01],\n",
       "       [ 9.57145169e-01,  7.20259272e-01],\n",
       "       [ 2.26044849e+00, -3.06150814e-01],\n",
       "       [ 1.38788322e+00,  2.31257373e-01],\n",
       "       [ 1.89637463e+00,  3.39209308e-01],\n",
       "       [ 2.83483214e+00, -6.97221188e-01],\n",
       "       [-7.67851166e-03,  1.38171696e+00],\n",
       "       [ 2.30131970e+00, -6.52181344e-01],\n",
       "       [ 1.72636286e+00, -1.33695024e-01],\n",
       "       [ 2.70112934e+00, -9.97252109e-02],\n",
       "       [ 1.50822737e+00,  9.99328404e-02],\n",
       "       [ 1.43124595e+00,  1.58359537e-01],\n",
       "       [ 1.92254204e+00, -6.86143626e-02],\n",
       "       [ 9.32124139e-01,  8.73251051e-01],\n",
       "       [ 1.33918629e+00,  1.06520552e+00],\n",
       "       [ 1.73687885e+00,  4.34316532e-01],\n",
       "       [ 1.48988567e+00,  1.98388972e-02],\n",
       "       [ 3.01266962e+00, -7.12234469e-01],\n",
       "       [ 3.15631522e+00, -6.14302943e-01],\n",
       "       [ 7.53514717e-01,  2.32883801e-01],\n",
       "       [ 2.21040643e+00, -1.67256644e-04],\n",
       "       [ 8.30694885e-01,  9.57253581e-01],\n",
       "       [ 2.85985317e+00, -8.50212967e-01],\n",
       "       [ 1.15255241e+00,  1.29959403e-01],\n",
       "       [ 1.92196885e+00,  5.88015832e-02],\n",
       "       [ 2.13265307e+00, -5.97121091e-01],\n",
       "       [ 1.05112315e+00,  2.13961933e-01],\n",
       "       [ 1.01693127e+00,  3.26906740e-01],\n",
       "       [ 1.68491846e+00,  3.39751451e-01],\n",
       "       [ 1.91259925e+00, -7.64041865e-01],\n",
       "       [ 2.37830112e+00, -7.10608041e-01],\n",
       "       [ 2.89461825e+00, -1.09057372e+00],\n",
       "       [ 1.76132669e+00,  4.08740699e-01],\n",
       "       [ 9.90565106e-01, -4.80660660e-02],\n",
       "       [ 9.46629184e-01,  1.52247716e-01],\n",
       "       [ 2.88736572e+00, -7.30072052e-01],\n",
       "       [ 1.84633257e+00,  6.45192866e-01],\n",
       "       [ 1.42207510e+00,  1.18312566e-01],\n",
       "       [ 9.15502017e-01,  4.10909271e-01],\n",
       "       [ 1.95673392e+00, -1.81559170e-01],\n",
       "       [ 2.11757484e+00,  2.51298191e-01],\n",
       "       [ 2.00869431e+00, -8.69940881e-02],\n",
       "       [ 9.57145169e-01,  7.20259272e-01],\n",
       "       [ 2.20983324e+00,  1.27248689e-01],\n",
       "       [ 2.22760175e+00,  3.34758578e-01],\n",
       "       [ 1.90669186e+00,  1.24424388e-01],\n",
       "       [ 1.26257932e+00,  2.13419790e-01],\n",
       "       [ 1.54184605e+00,  1.14403979e-01],\n",
       "       [ 1.63487640e+00,  6.45735008e-01],\n",
       "       [ 9.48547512e-01,  5.52796355e-01]])"
      ]
     },
     "execution_count": 38,
     "metadata": {},
     "output_type": "execute_result"
    }
   ],
   "source": [
    "pca_res"
   ]
  },
  {
   "cell_type": "code",
   "execution_count": 39,
   "id": "a3520e23",
   "metadata": {},
   "outputs": [],
   "source": [
    "datos_a_escalar['pc1']=pca_res[:,0]\n",
    "datos_a_escalar['pc2']=pca_res[:,1]"
   ]
  },
  {
   "cell_type": "code",
   "execution_count": 40,
   "id": "6a7851d1",
   "metadata": {},
   "outputs": [
    {
     "data": {
      "text/html": [
       "<div>\n",
       "<style scoped>\n",
       "    .dataframe tbody tr th:only-of-type {\n",
       "        vertical-align: middle;\n",
       "    }\n",
       "\n",
       "    .dataframe tbody tr th {\n",
       "        vertical-align: top;\n",
       "    }\n",
       "\n",
       "    .dataframe thead th {\n",
       "        text-align: right;\n",
       "    }\n",
       "</style>\n",
       "<table border=\"1\" class=\"dataframe\">\n",
       "  <thead>\n",
       "    <tr style=\"text-align: right;\">\n",
       "      <th></th>\n",
       "      <th>Longitud_de_sepalo</th>\n",
       "      <th>Ancho_de_sepalo</th>\n",
       "      <th>Longitud_de_petalo</th>\n",
       "      <th>Ancho_de_petalo</th>\n",
       "      <th>species</th>\n",
       "      <th>Cluster3</th>\n",
       "      <th>pc1</th>\n",
       "      <th>pc2</th>\n",
       "    </tr>\n",
       "  </thead>\n",
       "  <tbody>\n",
       "    <tr>\n",
       "      <th>0</th>\n",
       "      <td>-0.900681</td>\n",
       "      <td>1.019004</td>\n",
       "      <td>-1.340227</td>\n",
       "      <td>-1.315444</td>\n",
       "      <td>setosa</td>\n",
       "      <td>1</td>\n",
       "      <td>-2.060360</td>\n",
       "      <td>-0.298674</td>\n",
       "    </tr>\n",
       "    <tr>\n",
       "      <th>1</th>\n",
       "      <td>-1.143017</td>\n",
       "      <td>-0.131979</td>\n",
       "      <td>-1.340227</td>\n",
       "      <td>-1.315444</td>\n",
       "      <td>setosa</td>\n",
       "      <td>1</td>\n",
       "      <td>-2.195981</td>\n",
       "      <td>-0.101727</td>\n",
       "    </tr>\n",
       "    <tr>\n",
       "      <th>2</th>\n",
       "      <td>-1.385353</td>\n",
       "      <td>0.328414</td>\n",
       "      <td>-1.397064</td>\n",
       "      <td>-1.315444</td>\n",
       "      <td>setosa</td>\n",
       "      <td>1</td>\n",
       "      <td>-2.365221</td>\n",
       "      <td>0.080749</td>\n",
       "    </tr>\n",
       "    <tr>\n",
       "      <th>3</th>\n",
       "      <td>-1.506521</td>\n",
       "      <td>0.098217</td>\n",
       "      <td>-1.283389</td>\n",
       "      <td>-1.315444</td>\n",
       "      <td>setosa</td>\n",
       "      <td>1</td>\n",
       "      <td>-2.365794</td>\n",
       "      <td>0.208165</td>\n",
       "    </tr>\n",
       "    <tr>\n",
       "      <th>4</th>\n",
       "      <td>-1.021849</td>\n",
       "      <td>1.249201</td>\n",
       "      <td>-1.340227</td>\n",
       "      <td>-1.315444</td>\n",
       "      <td>setosa</td>\n",
       "      <td>1</td>\n",
       "      <td>-2.128171</td>\n",
       "      <td>-0.200201</td>\n",
       "    </tr>\n",
       "    <tr>\n",
       "      <th>...</th>\n",
       "      <td>...</td>\n",
       "      <td>...</td>\n",
       "      <td>...</td>\n",
       "      <td>...</td>\n",
       "      <td>...</td>\n",
       "      <td>...</td>\n",
       "      <td>...</td>\n",
       "      <td>...</td>\n",
       "    </tr>\n",
       "    <tr>\n",
       "      <th>145</th>\n",
       "      <td>1.038005</td>\n",
       "      <td>-0.131979</td>\n",
       "      <td>0.819596</td>\n",
       "      <td>1.448832</td>\n",
       "      <td>virginica</td>\n",
       "      <td>0</td>\n",
       "      <td>1.906692</td>\n",
       "      <td>0.124424</td>\n",
       "    </tr>\n",
       "    <tr>\n",
       "      <th>146</th>\n",
       "      <td>0.553333</td>\n",
       "      <td>-1.282963</td>\n",
       "      <td>0.705921</td>\n",
       "      <td>0.922303</td>\n",
       "      <td>virginica</td>\n",
       "      <td>0</td>\n",
       "      <td>1.262579</td>\n",
       "      <td>0.213420</td>\n",
       "    </tr>\n",
       "    <tr>\n",
       "      <th>147</th>\n",
       "      <td>0.795669</td>\n",
       "      <td>-0.131979</td>\n",
       "      <td>0.819596</td>\n",
       "      <td>1.053935</td>\n",
       "      <td>virginica</td>\n",
       "      <td>0</td>\n",
       "      <td>1.541846</td>\n",
       "      <td>0.114404</td>\n",
       "    </tr>\n",
       "    <tr>\n",
       "      <th>148</th>\n",
       "      <td>0.432165</td>\n",
       "      <td>0.788808</td>\n",
       "      <td>0.933271</td>\n",
       "      <td>1.448832</td>\n",
       "      <td>virginica</td>\n",
       "      <td>0</td>\n",
       "      <td>1.634876</td>\n",
       "      <td>0.645735</td>\n",
       "    </tr>\n",
       "    <tr>\n",
       "      <th>149</th>\n",
       "      <td>0.068662</td>\n",
       "      <td>-0.131979</td>\n",
       "      <td>0.762758</td>\n",
       "      <td>0.790671</td>\n",
       "      <td>virginica</td>\n",
       "      <td>2</td>\n",
       "      <td>0.948548</td>\n",
       "      <td>0.552796</td>\n",
       "    </tr>\n",
       "  </tbody>\n",
       "</table>\n",
       "<p>150 rows × 8 columns</p>\n",
       "</div>"
      ],
      "text/plain": [
       "     Longitud_de_sepalo  Ancho_de_sepalo  Longitud_de_petalo  Ancho_de_petalo  \\\n",
       "0             -0.900681         1.019004           -1.340227        -1.315444   \n",
       "1             -1.143017        -0.131979           -1.340227        -1.315444   \n",
       "2             -1.385353         0.328414           -1.397064        -1.315444   \n",
       "3             -1.506521         0.098217           -1.283389        -1.315444   \n",
       "4             -1.021849         1.249201           -1.340227        -1.315444   \n",
       "..                  ...              ...                 ...              ...   \n",
       "145            1.038005        -0.131979            0.819596         1.448832   \n",
       "146            0.553333        -1.282963            0.705921         0.922303   \n",
       "147            0.795669        -0.131979            0.819596         1.053935   \n",
       "148            0.432165         0.788808            0.933271         1.448832   \n",
       "149            0.068662        -0.131979            0.762758         0.790671   \n",
       "\n",
       "       species  Cluster3       pc1       pc2  \n",
       "0       setosa         1 -2.060360 -0.298674  \n",
       "1       setosa         1 -2.195981 -0.101727  \n",
       "2       setosa         1 -2.365221  0.080749  \n",
       "3       setosa         1 -2.365794  0.208165  \n",
       "4       setosa         1 -2.128171 -0.200201  \n",
       "..         ...       ...       ...       ...  \n",
       "145  virginica         0  1.906692  0.124424  \n",
       "146  virginica         0  1.262579  0.213420  \n",
       "147  virginica         0  1.541846  0.114404  \n",
       "148  virginica         0  1.634876  0.645735  \n",
       "149  virginica         2  0.948548  0.552796  \n",
       "\n",
       "[150 rows x 8 columns]"
      ]
     },
     "execution_count": 40,
     "metadata": {},
     "output_type": "execute_result"
    }
   ],
   "source": [
    "datos_a_escalar"
   ]
  },
  {
   "cell_type": "code",
   "execution_count": 41,
   "id": "d16ac987",
   "metadata": {},
   "outputs": [],
   "source": [
    "marcador = ['x','*', '.','|', '_']"
   ]
  },
  {
   "cell_type": "code",
   "execution_count": 42,
   "id": "859bd093",
   "metadata": {},
   "outputs": [
    {
     "data": {
      "image/png": "[encoded data removed]",
      "text/plain": [
       "<Figure size 432x288 with 1 Axes>"
      ]
     },
     "metadata": {},
     "output_type": "display_data"
    }
   ],
   "source": [
    "for segmento in range(3):\n",
    "    temp=datos_a_escalar[datos_a_escalar.Cluster3==segmento]\n",
    "    plt.scatter(temp.pc1, temp.pc2, marker=marcador[segmento], label='Cluster')\n",
    "    plt.xlabel('PC1')\n",
    "    plt.ylabel('PC2')\n",
    "    plt.legend();"
   ]
  },
  {
   "cell_type": "code",
   "execution_count": 43,
   "id": "212bae0a",
   "metadata": {},
   "outputs": [],
   "source": [
    "data['Segmento IA']=datos_a_escalar.Cluster3"
   ]
  },
  {
   "cell_type": "code",
   "execution_count": 44,
   "id": "36963f2d",
   "metadata": {},
   "outputs": [
    {
     "data": {
      "text/html": [
       "<div>\n",
       "<style scoped>\n",
       "    .dataframe tbody tr th:only-of-type {\n",
       "        vertical-align: middle;\n",
       "    }\n",
       "\n",
       "    .dataframe tbody tr th {\n",
       "        vertical-align: top;\n",
       "    }\n",
       "\n",
       "    .dataframe thead th {\n",
       "        text-align: right;\n",
       "    }\n",
       "</style>\n",
       "<table border=\"1\" class=\"dataframe\">\n",
       "  <thead>\n",
       "    <tr style=\"text-align: right;\">\n",
       "      <th></th>\n",
       "      <th>Longitud_de_sepalo</th>\n",
       "      <th>Ancho_de_sepalo</th>\n",
       "      <th>Longitud_de_petalo</th>\n",
       "      <th>Ancho_de_petalo</th>\n",
       "      <th>species</th>\n",
       "      <th>Segmento IA</th>\n",
       "    </tr>\n",
       "  </thead>\n",
       "  <tbody>\n",
       "    <tr>\n",
       "      <th>0</th>\n",
       "      <td>5.1</td>\n",
       "      <td>3.5</td>\n",
       "      <td>1.4</td>\n",
       "      <td>0.2</td>\n",
       "      <td>setosa</td>\n",
       "      <td>1</td>\n",
       "    </tr>\n",
       "    <tr>\n",
       "      <th>1</th>\n",
       "      <td>4.9</td>\n",
       "      <td>3.0</td>\n",
       "      <td>1.4</td>\n",
       "      <td>0.2</td>\n",
       "      <td>setosa</td>\n",
       "      <td>1</td>\n",
       "    </tr>\n",
       "    <tr>\n",
       "      <th>2</th>\n",
       "      <td>4.7</td>\n",
       "      <td>3.2</td>\n",
       "      <td>1.3</td>\n",
       "      <td>0.2</td>\n",
       "      <td>setosa</td>\n",
       "      <td>1</td>\n",
       "    </tr>\n",
       "    <tr>\n",
       "      <th>3</th>\n",
       "      <td>4.6</td>\n",
       "      <td>3.1</td>\n",
       "      <td>1.5</td>\n",
       "      <td>0.2</td>\n",
       "      <td>setosa</td>\n",
       "      <td>1</td>\n",
       "    </tr>\n",
       "    <tr>\n",
       "      <th>4</th>\n",
       "      <td>5.0</td>\n",
       "      <td>3.6</td>\n",
       "      <td>1.4</td>\n",
       "      <td>0.2</td>\n",
       "      <td>setosa</td>\n",
       "      <td>1</td>\n",
       "    </tr>\n",
       "    <tr>\n",
       "      <th>...</th>\n",
       "      <td>...</td>\n",
       "      <td>...</td>\n",
       "      <td>...</td>\n",
       "      <td>...</td>\n",
       "      <td>...</td>\n",
       "      <td>...</td>\n",
       "    </tr>\n",
       "    <tr>\n",
       "      <th>145</th>\n",
       "      <td>6.7</td>\n",
       "      <td>3.0</td>\n",
       "      <td>5.2</td>\n",
       "      <td>2.3</td>\n",
       "      <td>virginica</td>\n",
       "      <td>0</td>\n",
       "    </tr>\n",
       "    <tr>\n",
       "      <th>146</th>\n",
       "      <td>6.3</td>\n",
       "      <td>2.5</td>\n",
       "      <td>5.0</td>\n",
       "      <td>1.9</td>\n",
       "      <td>virginica</td>\n",
       "      <td>0</td>\n",
       "    </tr>\n",
       "    <tr>\n",
       "      <th>147</th>\n",
       "      <td>6.5</td>\n",
       "      <td>3.0</td>\n",
       "      <td>5.2</td>\n",
       "      <td>2.0</td>\n",
       "      <td>virginica</td>\n",
       "      <td>0</td>\n",
       "    </tr>\n",
       "    <tr>\n",
       "      <th>148</th>\n",
       "      <td>6.2</td>\n",
       "      <td>3.4</td>\n",
       "      <td>5.4</td>\n",
       "      <td>2.3</td>\n",
       "      <td>virginica</td>\n",
       "      <td>0</td>\n",
       "    </tr>\n",
       "    <tr>\n",
       "      <th>149</th>\n",
       "      <td>5.9</td>\n",
       "      <td>3.0</td>\n",
       "      <td>5.1</td>\n",
       "      <td>1.8</td>\n",
       "      <td>virginica</td>\n",
       "      <td>2</td>\n",
       "    </tr>\n",
       "  </tbody>\n",
       "</table>\n",
       "<p>150 rows × 6 columns</p>\n",
       "</div>"
      ],
      "text/plain": [
       "     Longitud_de_sepalo  Ancho_de_sepalo  Longitud_de_petalo  Ancho_de_petalo  \\\n",
       "0                   5.1              3.5                 1.4              0.2   \n",
       "1                   4.9              3.0                 1.4              0.2   \n",
       "2                   4.7              3.2                 1.3              0.2   \n",
       "3                   4.6              3.1                 1.5              0.2   \n",
       "4                   5.0              3.6                 1.4              0.2   \n",
       "..                  ...              ...                 ...              ...   \n",
       "145                 6.7              3.0                 5.2              2.3   \n",
       "146                 6.3              2.5                 5.0              1.9   \n",
       "147                 6.5              3.0                 5.2              2.0   \n",
       "148                 6.2              3.4                 5.4              2.3   \n",
       "149                 5.9              3.0                 5.1              1.8   \n",
       "\n",
       "       species  Segmento IA  \n",
       "0       setosa            1  \n",
       "1       setosa            1  \n",
       "2       setosa            1  \n",
       "3       setosa            1  \n",
       "4       setosa            1  \n",
       "..         ...          ...  \n",
       "145  virginica            0  \n",
       "146  virginica            0  \n",
       "147  virginica            0  \n",
       "148  virginica            0  \n",
       "149  virginica            2  \n",
       "\n",
       "[150 rows x 6 columns]"
      ]
     },
     "execution_count": 44,
     "metadata": {},
     "output_type": "execute_result"
    }
   ],
   "source": [
    "data"
   ]
  },
  {
   "cell_type": "code",
   "execution_count": 45,
   "id": "7beac3b8",
   "metadata": {},
   "outputs": [
    {
     "data": {
      "text/html": [
       "<div>\n",
       "<style scoped>\n",
       "    .dataframe tbody tr th:only-of-type {\n",
       "        vertical-align: middle;\n",
       "    }\n",
       "\n",
       "    .dataframe tbody tr th {\n",
       "        vertical-align: top;\n",
       "    }\n",
       "\n",
       "    .dataframe thead th {\n",
       "        text-align: right;\n",
       "    }\n",
       "</style>\n",
       "<table border=\"1\" class=\"dataframe\">\n",
       "  <thead>\n",
       "    <tr style=\"text-align: right;\">\n",
       "      <th></th>\n",
       "      <th>Longitud_de_petalo</th>\n",
       "      <th>Ancho_de_petalo</th>\n",
       "      <th>Longitud_de_sepalo</th>\n",
       "      <th>Ancho_de_sepalo</th>\n",
       "    </tr>\n",
       "    <tr>\n",
       "      <th>Segmento IA</th>\n",
       "      <th></th>\n",
       "      <th></th>\n",
       "      <th></th>\n",
       "      <th></th>\n",
       "    </tr>\n",
       "  </thead>\n",
       "  <tbody>\n",
       "    <tr>\n",
       "      <th>0</th>\n",
       "      <td>5.653659</td>\n",
       "      <td>2.036585</td>\n",
       "      <td>6.853659</td>\n",
       "      <td>3.068293</td>\n",
       "    </tr>\n",
       "    <tr>\n",
       "      <th>1</th>\n",
       "      <td>1.498039</td>\n",
       "      <td>0.260784</td>\n",
       "      <td>5.003922</td>\n",
       "      <td>3.407843</td>\n",
       "    </tr>\n",
       "    <tr>\n",
       "      <th>2</th>\n",
       "      <td>4.405172</td>\n",
       "      <td>1.432759</td>\n",
       "      <td>5.867241</td>\n",
       "      <td>2.741379</td>\n",
       "    </tr>\n",
       "  </tbody>\n",
       "</table>\n",
       "</div>"
      ],
      "text/plain": [
       "             Longitud_de_petalo  Ancho_de_petalo  Longitud_de_sepalo  \\\n",
       "Segmento IA                                                            \n",
       "0                      5.653659         2.036585            6.853659   \n",
       "1                      1.498039         0.260784            5.003922   \n",
       "2                      4.405172         1.432759            5.867241   \n",
       "\n",
       "             Ancho_de_sepalo  \n",
       "Segmento IA                   \n",
       "0                   3.068293  \n",
       "1                   3.407843  \n",
       "2                   2.741379  "
      ]
     },
     "execution_count": 45,
     "metadata": {},
     "output_type": "execute_result"
    }
   ],
   "source": [
    "data.groupby('Segmento IA')[col_a_escalar].mean()"
   ]
  },
  {
   "cell_type": "code",
   "execution_count": 46,
   "id": "1ad27237",
   "metadata": {},
   "outputs": [
    {
     "data": {
      "image/png": "[encoded data removed]",
      "text/plain": [
       "<Figure size 432x288 with 1 Axes>"
      ]
     },
     "metadata": {},
     "output_type": "display_data"
    }
   ],
   "source": [
    "data.groupby('Segmento IA')[col_a_escalar].mean().plot.bar();"
   ]
  },
  {
   "cell_type": "code",
   "execution_count": 47,
   "id": "185e73e5",
   "metadata": {},
   "outputs": [],
   "source": [
    "col_segmento = ['Longitud_de_petalo', 'Longitud_de_sepalo']"
   ]
  },
  {
   "cell_type": "code",
   "execution_count": 48,
   "id": "18f9f0f9",
   "metadata": {},
   "outputs": [],
   "source": [
    "x=datos_a_escalar[col_segmento]"
   ]
  },
  {
   "cell_type": "code",
   "execution_count": 49,
   "id": "791f949a",
   "metadata": {},
   "outputs": [
    {
     "data": {
      "text/plain": [
       "[84.72073862193368,\n",
       " 43.034691996034674,\n",
       " 28.50821835607059,\n",
       " 22.39598608015194,\n",
       " 16.847199290462854,\n",
       " 13.897240531466139,\n",
       " 11.800764286157012,\n",
       " 9.82991329020655,\n",
       " 8.234724576099529]"
      ]
     },
     "execution_count": 49,
     "metadata": {},
     "output_type": "execute_result"
    }
   ],
   "source": [
    "puntuacion_inercia =[]\n",
    "for k in range(2,11):\n",
    "    inercia=KMeans(n_clusters=k, random_state=42).fit(x).inertia_\n",
    "    puntuacion_inercia.append(inercia)\n",
    "puntuacion_inercia"
   ]
  },
  {
   "cell_type": "code",
   "execution_count": 50,
   "id": "af07b306",
   "metadata": {},
   "outputs": [],
   "source": [
    "cliente = data[['Longitud_de_petalo', 'Ancho_de_petalo', 'Longitud_de_sepalo']].copy()"
   ]
  },
  {
   "cell_type": "code",
   "execution_count": 51,
   "id": "f1b3494b",
   "metadata": {},
   "outputs": [],
   "source": [
    "#creamos el modelo \n",
    "km = KMeans(n_clusters=3, n_init=100, max_iter=1000, init='random')"
   ]
  },
  {
   "cell_type": "code",
   "execution_count": 52,
   "id": "95568d47",
   "metadata": {},
   "outputs": [],
   "source": [
    "prediccionkm=km.fit_predict(cliente)\n"
   ]
  },
  {
   "cell_type": "code",
   "execution_count": 53,
   "id": "f3e0dcc1",
   "metadata": {},
   "outputs": [],
   "source": [
    "from sklearn.metrics import silhouette_score, calinski_harabasz_score\n",
    "from mpl_toolkits import mplot3d"
   ]
  },
  {
   "cell_type": "code",
   "execution_count": 54,
   "id": "de73766e",
   "metadata": {},
   "outputs": [
    {
     "data": {
      "text/plain": [
       "0.5848326611166372"
      ]
     },
     "execution_count": 54,
     "metadata": {},
     "output_type": "execute_result"
    }
   ],
   "source": [
    "silhouette_score(cliente, prediccionkm)"
   ]
  },
  {
   "cell_type": "code",
   "execution_count": 55,
   "id": "68a8cd1c",
   "metadata": {},
   "outputs": [
    {
     "data": {
      "text/plain": [
       "684.292455197042"
      ]
     },
     "execution_count": 55,
     "metadata": {},
     "output_type": "execute_result"
    }
   ],
   "source": [
    "calinski_harabasz_score(cliente, prediccionkm)"
   ]
  },
  {
   "cell_type": "code",
   "execution_count": 56,
   "id": "6509f97f",
   "metadata": {},
   "outputs": [],
   "source": [
    "%matplotlib notebook"
   ]
  },
  {
   "cell_type": "code",
   "execution_count": 57,
   "id": "89da4c6d",
   "metadata": {},
   "outputs": [
    {
     "data": {
      "application/javascript": "/* Put everything inside the global mpl namespace */\n/* global mpl */\nwindow.mpl = {};\n\nmpl.get_websocket_type = function () {\n    if (typeof WebSocket !== 'undefined') {\n        return WebSocket;\n    } else if (typeof MozWebSocket !== 'undefined') {\n        return MozWebSocket;\n    } else {\n        alert(\n            'Your browser does not have WebSocket support. ' +\n                'Please try Chrome, Safari or Firefox ≥ 6. ' +\n                'Firefox 4 and 5 are also supported but you ' +\n                'have to enable WebSockets in about:config.'\n        );\n    }\n};\n\nmpl.figure = function (figure_id, websocket, ondownload, parent_element) {\n    this.id = figure_id;\n\n    this.ws = websocket;\n\n    this.supports_binary = this.ws.binaryType !== undefined;\n\n    if (!this.supports_binary) {\n        var warnings = document.getElementById('mpl-warnings');\n        if (warnings) {\n            warnings.style.display = 'block';\n            warnings.textContent =\n                'This browser does not support binary websocket messages. ' +\n                'Performance may be slow.';\n        }\n    }\n\n    this.imageObj = new Image();\n\n    this.context = undefined;\n    this.message = undefined;\n    this.canvas = undefined;\n    this.rubberband_canvas = undefined;\n    this.rubberband_context = undefined;\n    this.format_dropdown = undefined;\n\n    this.image_mode = 'full';\n\n    this.root = document.createElement('div');\n    this.root.setAttribute('style', 'display: inline-block');\n    this._root_extra_style(this.root);\n\n    parent_element.appendChild(this.root);\n\n    this._init_header(this);\n    this._init_canvas(this);\n    this._init_toolbar(this);\n\n    var fig = this;\n\n    this.waiting = false;\n\n    this.ws.onopen = function () {\n        fig.send_message('supports_binary', { value: fig.supports_binary });\n        fig.send_message('send_image_mode', {});\n        if (fig.ratio !== 1) {\n            fig.send_message('set_device_pixel_ratio', {\n                device_pixel_ratio: fig.ratio,\n            });\n        }\n        fig.send_message('refresh', {});\n    };\n\n    this.imageObj.onload = function () {\n        if (fig.image_mode === 'full') {\n            // Full images could contain transparency (where diff images\n            // almost always do), so we need to clear the canvas so that\n            // there is no ghosting.\n            fig.context.clearRect(0, 0, fig.canvas.width, fig.canvas.height);\n        }\n        fig.context.drawImage(fig.imageObj, 0, 0);\n    };\n\n    this.imageObj.onunload = function () {\n        fig.ws.close();\n    };\n\n    this.ws.onmessage = this._make_on_message_function(this);\n\n    this.ondownload = ondownload;\n};\n\nmpl.figure.prototype._init_header = function () {\n    var titlebar = document.createElement('div');\n    titlebar.classList =\n        'ui-dialog-titlebar ui-widget-header ui-corner-all ui-helper-clearfix';\n    var titletext = document.createElement('div');\n    titletext.classList = 'ui-dialog-title';\n    titletext.setAttribute(\n        'style',\n        'width: 100%; text-align: center; padding: 3px;'\n    );\n    titlebar.appendChild(titletext);\n    this.root.appendChild(titlebar);\n    this.header = titletext;\n};\n\nmpl.figure.prototype._canvas_extra_style = function (_canvas_div) {};\n\nmpl.figure.prototype._root_extra_style = function (_canvas_div) {};\n\nmpl.figure.prototype._init_canvas = function () {\n    var fig = this;\n\n    var canvas_div = (this.canvas_div = document.createElement('div'));\n    canvas_div.setAttribute(\n        'style',\n        'border: 1px solid #ddd;' +\n            'box-sizing: content-box;' +\n            'clear: both;' +\n            'min-height: 1px;' +\n            'min-width: 1px;' +\n            'outline: 0;' +\n            'overflow: hidden;' +\n            'position: relative;' +\n            'resize: both;'\n    );\n\n    function on_keyboard_event_closure(name) {\n        return function (event) {\n            return fig.key_event(event, name);\n        };\n    }\n\n    canvas_div.addEventListener(\n        'keydown',\n        on_keyboard_event_closure('key_press')\n    );\n    canvas_div.addEventListener(\n        'keyup',\n        on_keyboard_event_closure('key_release')\n    );\n\n    this._canvas_extra_style(canvas_div);\n    this.root.appendChild(canvas_div);\n\n    var canvas = (this.canvas = document.createElement('canvas'));\n    canvas.classList.add('mpl-canvas');\n    canvas.setAttribute('style', 'box-sizing: content-box;');\n\n    this.context = canvas.getContext('2d');\n\n    var backingStore =\n        this.context.backingStorePixelRatio ||\n        this.context.webkitBackingStorePixelRatio ||\n        this.context.mozBackingStorePixelRatio ||\n        this.context.msBackingStorePixelRatio ||\n        this.context.oBackingStorePixelRatio ||\n        this.context.backingStorePixelRatio ||\n        1;\n\n    this.ratio = (window.devicePixelRatio || 1) / backingStore;\n\n    var rubberband_canvas = (this.rubberband_canvas = document.createElement(\n        'canvas'\n    ));\n    rubberband_canvas.setAttribute(\n        'style',\n        'box-sizing: content-box; position: absolute; left: 0; top: 0; z-index: 1;'\n    );\n\n    // Apply a ponyfill if ResizeObserver is not implemented by browser.\n    if (this.ResizeObserver === undefined) {\n        if (window.ResizeObserver !== undefined) {\n            this.ResizeObserver = window.ResizeObserver;\n        } else {\n            var obs = _JSXTOOLS_RESIZE_OBSERVER({});\n            this.ResizeObserver = obs.ResizeObserver;\n        }\n    }\n\n    this.resizeObserverInstance = new this.ResizeObserver(function (entries) {\n        var nentries = entries.length;\n        for (var i = 0; i < nentries; i++) {\n            var entry = entries[i];\n            var width, height;\n            if (entry.contentBoxSize) {\n                if (entry.contentBoxSize instanceof Array) {\n                    // Chrome 84 implements new version of spec.\n                    width = entry.contentBoxSize[0].inlineSize;\n                    height = entry.contentBoxSize[0].blockSize;\n                } else {\n                    // Firefox implements old version of spec.\n                    width = entry.contentBoxSize.inlineSize;\n                    height = entry.contentBoxSize.blockSize;\n                }\n            } else {\n                // Chrome <84 implements even older version of spec.\n                width = entry.contentRect.width;\n                height = entry.contentRect.height;\n            }\n\n            // Keep the size of the canvas and rubber band canvas in sync with\n            // the canvas container.\n            if (entry.devicePixelContentBoxSize) {\n                // Chrome 84 implements new version of spec.\n                canvas.setAttribute(\n                    'width',\n                    entry.devicePixelContentBoxSize[0].inlineSize\n                );\n                canvas.setAttribute(\n                    'height',\n                    entry.devicePixelContentBoxSize[0].blockSize\n                );\n            } else {\n                canvas.setAttribute('width', width * fig.ratio);\n                canvas.setAttribute('height', height * fig.ratio);\n            }\n            canvas.setAttribute(\n                'style',\n                'width: ' + width + 'px; height: ' + height + 'px;'\n            );\n\n            rubberband_canvas.setAttribute('width', width);\n            rubberband_canvas.setAttribute('height', height);\n\n            // And update the size in Python. We ignore the initial 0/0 size\n            // that occurs as the element is placed into the DOM, which should\n            // otherwise not happen due to the minimum size styling.\n            if (fig.ws.readyState == 1 && width != 0 && height != 0) {\n                fig.request_resize(width, height);\n            }\n        }\n    });\n    this.resizeObserverInstance.observe(canvas_div);\n\n    function on_mouse_event_closure(name) {\n        return function (event) {\n            return fig.mouse_event(event, name);\n        };\n    }\n\n    rubberband_canvas.addEventListener(\n        'mousedown',\n        on_mouse_event_closure('button_press')\n    );\n    rubberband_canvas.addEventListener(\n        'mouseup',\n        on_mouse_event_closure('button_release')\n    );\n    rubberband_canvas.addEventListener(\n        'dblclick',\n        on_mouse_event_closure('dblclick')\n    );\n    // Throttle sequential mouse events to 1 every 20ms.\n    rubberband_canvas.addEventListener(\n        'mousemove',\n        on_mouse_event_closure('motion_notify')\n    );\n\n    rubberband_canvas.addEventListener(\n        'mouseenter',\n        on_mouse_event_closure('figure_enter')\n    );\n    rubberband_canvas.addEventListener(\n        'mouseleave',\n        on_mouse_event_closure('figure_leave')\n    );\n\n    canvas_div.addEventListener('wheel', function (event) {\n        if (event.deltaY < 0) {\n            event.step = 1;\n        } else {\n            event.step = -1;\n        }\n        on_mouse_event_closure('scroll')(event);\n    });\n\n    canvas_div.appendChild(canvas);\n    canvas_div.appendChild(rubberband_canvas);\n\n    this.rubberband_context = rubberband_canvas.getContext('2d');\n    this.rubberband_context.strokeStyle = '#000000';\n\n    this._resize_canvas = function (width, height, forward) {\n        if (forward) {\n            canvas_div.style.width = width + 'px';\n            canvas_div.style.height = height + 'px';\n        }\n    };\n\n    // Disable right mouse context menu.\n    this.rubberband_canvas.addEventListener('contextmenu', function (_e) {\n        event.preventDefault();\n        return false;\n    });\n\n    function set_focus() {\n        canvas.focus();\n        canvas_div.focus();\n    }\n\n    window.setTimeout(set_focus, 100);\n};\n\nmpl.figure.prototype._init_toolbar = function () {\n    var fig = this;\n\n    var toolbar = document.createElement('div');\n    toolbar.classList = 'mpl-toolbar';\n    this.root.appendChild(toolbar);\n\n    function on_click_closure(name) {\n        return function (_event) {\n            return fig.toolbar_button_onclick(name);\n        };\n    }\n\n    function on_mouseover_closure(tooltip) {\n        return function (event) {\n            if (!event.currentTarget.disabled) {\n                return fig.toolbar_button_onmouseover(tooltip);\n            }\n        };\n    }\n\n    fig.buttons = {};\n    var buttonGroup = document.createElement('div');\n    buttonGroup.classList = 'mpl-button-group';\n    for (var toolbar_ind in mpl.toolbar_items) {\n        var name = mpl.toolbar_items[toolbar_ind][0];\n        var tooltip = mpl.toolbar_items[toolbar_ind][1];\n        var image = mpl.toolbar_items[toolbar_ind][2];\n        var method_name = mpl.toolbar_items[toolbar_ind][3];\n\n        if (!name) {\n            /* Instead of a spacer, we start a new button group. */\n            if (buttonGroup.hasChildNodes()) {\n                toolbar.appendChild(buttonGroup);\n            }\n            buttonGroup = document.createElement('div');\n            buttonGroup.classList = 'mpl-button-group';\n            continue;\n        }\n\n        var button = (fig.buttons[name] = document.createElement('button'));\n        button.classList = 'mpl-widget';\n        button.setAttribute('role', 'button');\n        button.setAttribute('aria-disabled', 'false');\n        button.addEventListener('click', on_click_closure(method_name));\n        button.addEventListener('mouseover', on_mouseover_closure(tooltip));\n\n        var icon_img = document.createElement('img');\n        icon_img.src = '_images/' + image + '.png';\n        icon_img.srcset = '_images/' + image + '_large.png 2x';\n        icon_img.alt = tooltip;\n        button.appendChild(icon_img);\n\n        buttonGroup.appendChild(button);\n    }\n\n    if (buttonGroup.hasChildNodes()) {\n        toolbar.appendChild(buttonGroup);\n    }\n\n    var fmt_picker = document.createElement('select');\n    fmt_picker.classList = 'mpl-widget';\n    toolbar.appendChild(fmt_picker);\n    this.format_dropdown = fmt_picker;\n\n    for (var ind in mpl.extensions) {\n        var fmt = mpl.extensions[ind];\n        var option = document.createElement('option');\n        option.selected = fmt === mpl.default_extension;\n        option.innerHTML = fmt;\n        fmt_picker.appendChild(option);\n    }\n\n    var status_bar = document.createElement('span');\n    status_bar.classList = 'mpl-message';\n    toolbar.appendChild(status_bar);\n    this.message = status_bar;\n};\n\nmpl.figure.prototype.request_resize = function (x_pixels, y_pixels) {\n    // Request matplotlib to resize the figure. Matplotlib will then trigger a resize in the client,\n    // which will in turn request a refresh of the image.\n    this.send_message('resize', { width: x_pixels, height: y_pixels });\n};\n\nmpl.figure.prototype.send_message = function (type, properties) {\n    properties['type'] = type;\n    properties['figure_id'] = this.id;\n    this.ws.send(JSON.stringify(properties));\n};\n\nmpl.figure.prototype.send_draw_message = function () {\n    if (!this.waiting) {\n        this.waiting = true;\n        this.ws.send(JSON.stringify({ type: 'draw', figure_id: this.id }));\n    }\n};\n\nmpl.figure.prototype.handle_save = function (fig, _msg) {\n    var format_dropdown = fig.format_dropdown;\n    var format = format_dropdown.options[format_dropdown.selectedIndex].value;\n    fig.ondownload(fig, format);\n};\n\nmpl.figure.prototype.handle_resize = function (fig, msg) {\n    var size = msg['size'];\n    if (size[0] !== fig.canvas.width || size[1] !== fig.canvas.height) {\n        fig._resize_canvas(size[0], size[1], msg['forward']);\n        fig.send_message('refresh', {});\n    }\n};\n\nmpl.figure.prototype.handle_rubberband = function (fig, msg) {\n    var x0 = msg['x0'] / fig.ratio;\n    var y0 = (fig.canvas.height - msg['y0']) / fig.ratio;\n    var x1 = msg['x1'] / fig.ratio;\n    var y1 = (fig.canvas.height - msg['y1']) / fig.ratio;\n    x0 = Math.floor(x0) + 0.5;\n    y0 = Math.floor(y0) + 0.5;\n    x1 = Math.floor(x1) + 0.5;\n    y1 = Math.floor(y1) + 0.5;\n    var min_x = Math.min(x0, x1);\n    var min_y = Math.min(y0, y1);\n    var width = Math.abs(x1 - x0);\n    var height = Math.abs(y1 - y0);\n\n    fig.rubberband_context.clearRect(\n        0,\n        0,\n        fig.canvas.width / fig.ratio,\n        fig.canvas.height / fig.ratio\n    );\n\n    fig.rubberband_context.strokeRect(min_x, min_y, width, height);\n};\n\nmpl.figure.prototype.handle_figure_label = function (fig, msg) {\n    // Updates the figure title.\n    fig.header.textContent = msg['label'];\n};\n\nmpl.figure.prototype.handle_cursor = function (fig, msg) {\n    fig.rubberband_canvas.style.cursor = msg['cursor'];\n};\n\nmpl.figure.prototype.handle_message = function (fig, msg) {\n    fig.message.textContent = msg['message'];\n};\n\nmpl.figure.prototype.handle_draw = function (fig, _msg) {\n    // Request the server to send over a new figure.\n    fig.send_draw_message();\n};\n\nmpl.figure.prototype.handle_image_mode = function (fig, msg) {\n    fig.image_mode = msg['mode'];\n};\n\nmpl.figure.prototype.handle_history_buttons = function (fig, msg) {\n    for (var key in msg) {\n        if (!(key in fig.buttons)) {\n            continue;\n        }\n        fig.buttons[key].disabled = !msg[key];\n        fig.buttons[key].setAttribute('aria-disabled', !msg[key]);\n    }\n};\n\nmpl.figure.prototype.handle_navigate_mode = function (fig, msg) {\n    if (msg['mode'] === 'PAN') {\n        fig.buttons['Pan'].classList.add('active');\n        fig.buttons['Zoom'].classList.remove('active');\n    } else if (msg['mode'] === 'ZOOM') {\n        fig.buttons['Pan'].classList.remove('active');\n        fig.buttons['Zoom'].classList.add('active');\n    } else {\n        fig.buttons['Pan'].classList.remove('active');\n        fig.buttons['Zoom'].classList.remove('active');\n    }\n};\n\nmpl.figure.prototype.updated_canvas_event = function () {\n    // Called whenever the canvas gets updated.\n    this.send_message('ack', {});\n};\n\n// A function to construct a web socket function for onmessage handling.\n// Called in the figure constructor.\nmpl.figure.prototype._make_on_message_function = function (fig) {\n    return function socket_on_message(evt) {\n        if (evt.data instanceof Blob) {\n            var img = evt.data;\n            if (img.type !== 'image/png') {\n                /* FIXME: We get \"Resource interpreted as Image but\n                 * transferred with MIME type text/plain:\" errors on\n                 * Chrome.  But how to set the MIME type?  It doesn't seem\n                 * to be part of the websocket stream */\n                img.type = 'image/png';\n            }\n\n            /* Free the memory for the previous frames */\n            if (fig.imageObj.src) {\n                (window.URL || window.webkitURL).revokeObjectURL(\n                    fig.imageObj.src\n                );\n            }\n\n            fig.imageObj.src = (window.URL || window.webkitURL).createObjectURL(\n                img\n            );\n            fig.updated_canvas_event();\n            fig.waiting = false;\n            return;\n        } else if (\n            typeof evt.data === 'string' &&\n            evt.data.slice(0, 21) === 'data:image/png;base64'\n        ) {\n            fig.imageObj.src = evt.data;\n            fig.updated_canvas_event();\n            fig.waiting = false;\n            return;\n        }\n\n        var msg = JSON.parse(evt.data);\n        var msg_type = msg['type'];\n\n        // Call the  \"handle_{type}\" callback, which takes\n        // the figure and JSON message as its only arguments.\n        try {\n            var callback = fig['handle_' + msg_type];\n        } catch (e) {\n            console.log(\n                \"No handler for the '\" + msg_type + \"' message type: \",\n                msg\n            );\n            return;\n        }\n\n        if (callback) {\n            try {\n                // console.log(\"Handling '\" + msg_type + \"' message: \", msg);\n                callback(fig, msg);\n            } catch (e) {\n                console.log(\n                    \"Exception inside the 'handler_\" + msg_type + \"' callback:\",\n                    e,\n                    e.stack,\n                    msg\n                );\n            }\n        }\n    };\n};\n\n// from https://stackoverflow.com/questions/1114465/getting-mouse-location-in-canvas\nmpl.findpos = function (e) {\n    //this section is from http://www.quirksmode.org/js/events_properties.html\n    var targ;\n    if (!e) {\n        e = window.event;\n    }\n    if (e.target) {\n        targ = e.target;\n    } else if (e.srcElement) {\n        targ = e.srcElement;\n    }\n    if (targ.nodeType === 3) {\n        // defeat Safari bug\n        targ = targ.parentNode;\n    }\n\n    // pageX,Y are the mouse positions relative to the document\n    var boundingRect = targ.getBoundingClientRect();\n    var x = e.pageX - (boundingRect.left + document.body.scrollLeft);\n    var y = e.pageY - (boundingRect.top + document.body.scrollTop);\n\n    return { x: x, y: y };\n};\n\n/*\n * return a copy of an object with only non-object keys\n * we need this to avoid circular references\n * https://stackoverflow.com/a/24161582/3208463\n */\nfunction simpleKeys(original) {\n    return Object.keys(original).reduce(function (obj, key) {\n        if (typeof original[key] !== 'object') {\n            obj[key] = original[key];\n        }\n        return obj;\n    }, {});\n}\n\nmpl.figure.prototype.mouse_event = function (event, name) {\n    var canvas_pos = mpl.findpos(event);\n\n    if (name === 'button_press') {\n        this.canvas.focus();\n        this.canvas_div.focus();\n    }\n\n    var x = canvas_pos.x * this.ratio;\n    var y = canvas_pos.y * this.ratio;\n\n    this.send_message(name, {\n        x: x,\n        y: y,\n        button: event.button,\n        step: event.step,\n        guiEvent: simpleKeys(event),\n    });\n\n    /* This prevents the web browser from automatically changing to\n     * the text insertion cursor when the button is pressed.  We want\n     * to control all of the cursor setting manually through the\n     * 'cursor' event from matplotlib */\n    event.preventDefault();\n    return false;\n};\n\nmpl.figure.prototype._key_event_extra = function (_event, _name) {\n    // Handle any extra behaviour associated with a key event\n};\n\nmpl.figure.prototype.key_event = function (event, name) {\n    // Prevent repeat events\n    if (name === 'key_press') {\n        if (event.key === this._key) {\n            return;\n        } else {\n            this._key = event.key;\n        }\n    }\n    if (name === 'key_release') {\n        this._key = null;\n    }\n\n    var value = '';\n    if (event.ctrlKey && event.key !== 'Control') {\n        value += 'ctrl+';\n    }\n    else if (event.altKey && event.key !== 'Alt') {\n        value += 'alt+';\n    }\n    else if (event.shiftKey && event.key !== 'Shift') {\n        value += 'shift+';\n    }\n\n    value += 'k' + event.key;\n\n    this._key_event_extra(event, name);\n\n    this.send_message(name, { key: value, guiEvent: simpleKeys(event) });\n    return false;\n};\n\nmpl.figure.prototype.toolbar_button_onclick = function (name) {\n    if (name === 'download') {\n        this.handle_save(this, null);\n    } else {\n        this.send_message('toolbar_button', { name: name });\n    }\n};\n\nmpl.figure.prototype.toolbar_button_onmouseover = function (tooltip) {\n    this.message.textContent = tooltip;\n};\n\n///////////////// REMAINING CONTENT GENERATED BY embed_js.py /////////////////\n// prettier-ignore\nvar _JSXTOOLS_RESIZE_OBSERVER=function(A){var t,i=new WeakMap,n=new WeakMap,a=new WeakMap,r=new WeakMap,o=new Set;function s(e){if(!(this instanceof s))throw new TypeError(\"Constructor requires 'new' operator\");i.set(this,e)}function h(){throw new TypeError(\"Function is not a constructor\")}function c(e,t,i,n){e=0 in arguments?Number(arguments[0]):0,t=1 in arguments?Number(arguments[1]):0,i=2 in arguments?Number(arguments[2]):0,n=3 in arguments?Number(arguments[3]):0,this.right=(this.x=this.left=e)+(this.width=i),this.bottom=(this.y=this.top=t)+(this.height=n),Object.freeze(this)}function d(){t=requestAnimationFrame(d);var s=new WeakMap,p=new Set;o.forEach((function(t){r.get(t).forEach((function(i){var r=t instanceof window.SVGElement,o=a.get(t),d=r?0:parseFloat(o.paddingTop),f=r?0:parseFloat(o.paddingRight),l=r?0:parseFloat(o.paddingBottom),u=r?0:parseFloat(o.paddingLeft),g=r?0:parseFloat(o.borderTopWidth),m=r?0:parseFloat(o.borderRightWidth),w=r?0:parseFloat(o.borderBottomWidth),b=u+f,F=d+l,v=(r?0:parseFloat(o.borderLeftWidth))+m,W=g+w,y=r?0:t.offsetHeight-W-t.clientHeight,E=r?0:t.offsetWidth-v-t.clientWidth,R=b+v,z=F+W,M=r?t.width:parseFloat(o.width)-R-E,O=r?t.height:parseFloat(o.height)-z-y;if(n.has(t)){var k=n.get(t);if(k[0]===M&&k[1]===O)return}n.set(t,[M,O]);var S=Object.create(h.prototype);S.target=t,S.contentRect=new c(u,d,M,O),s.has(i)||(s.set(i,[]),p.add(i)),s.get(i).push(S)}))})),p.forEach((function(e){i.get(e).call(e,s.get(e),e)}))}return s.prototype.observe=function(i){if(i instanceof window.Element){r.has(i)||(r.set(i,new Set),o.add(i),a.set(i,window.getComputedStyle(i)));var n=r.get(i);n.has(this)||n.add(this),cancelAnimationFrame(t),t=requestAnimationFrame(d)}},s.prototype.unobserve=function(i){if(i instanceof window.Element&&r.has(i)){var n=r.get(i);n.has(this)&&(n.delete(this),n.size||(r.delete(i),o.delete(i))),n.size||r.delete(i),o.size||cancelAnimationFrame(t)}},A.DOMRectReadOnly=c,A.ResizeObserver=s,A.ResizeObserverEntry=h,A}; // eslint-disable-line\nmpl.toolbar_items = [[\"Home\", \"Reset original view\", \"fa fa-home icon-home\", \"home\"], [\"Back\", \"Back to previous view\", \"fa fa-arrow-left icon-arrow-left\", \"back\"], [\"Forward\", \"Forward to next view\", \"fa fa-arrow-right icon-arrow-right\", \"forward\"], [\"\", \"\", \"\", \"\"], [\"Pan\", \"Left button pans, Right button zooms\\nx/y fixes axis, CTRL fixes aspect\", \"fa fa-arrows icon-move\", \"pan\"], [\"Zoom\", \"Zoom to rectangle\\nx/y fixes axis\", \"fa fa-square-o icon-check-empty\", \"zoom\"], [\"\", \"\", \"\", \"\"], [\"Download\", \"Download plot\", \"fa fa-floppy-o icon-save\", \"download\"]];\n\nmpl.extensions = [\"eps\", \"jpeg\", \"pgf\", \"pdf\", \"png\", \"ps\", \"raw\", \"svg\", \"tif\"];\n\nmpl.default_extension = \"png\";/* global mpl */\n\nvar comm_websocket_adapter = function (comm) {\n    // Create a \"websocket\"-like object which calls the given IPython comm\n    // object with the appropriate methods. Currently this is a non binary\n    // socket, so there is still some room for performance tuning.\n    var ws = {};\n\n    ws.binaryType = comm.kernel.ws.binaryType;\n    ws.readyState = comm.kernel.ws.readyState;\n    function updateReadyState(_event) {\n        if (comm.kernel.ws) {\n            ws.readyState = comm.kernel.ws.readyState;\n        } else {\n            ws.readyState = 3; // Closed state.\n        }\n    }\n    comm.kernel.ws.addEventListener('open', updateReadyState);\n    comm.kernel.ws.addEventListener('close', updateReadyState);\n    comm.kernel.ws.addEventListener('error', updateReadyState);\n\n    ws.close = function () {\n        comm.close();\n    };\n    ws.send = function (m) {\n        //console.log('sending', m);\n        comm.send(m);\n    };\n    // Register the callback with on_msg.\n    comm.on_msg(function (msg) {\n        //console.log('receiving', msg['content']['data'], msg);\n        var data = msg['content']['data'];\n        if (data['blob'] !== undefined) {\n            data = {\n                data: new Blob(msg['buffers'], { type: data['blob'] }),\n            };\n        }\n        // Pass the mpl event to the overridden (by mpl) onmessage function.\n        ws.onmessage(data);\n    });\n    return ws;\n};\n\nmpl.mpl_figure_comm = function (comm, msg) {\n    // This is the function which gets called when the mpl process\n    // starts-up an IPython Comm through the \"matplotlib\" channel.\n\n    var id = msg.content.data.id;\n    // Get hold of the div created by the display call when the Comm\n    // socket was opened in Python.\n    var element = document.getElementById(id);\n    var ws_proxy = comm_websocket_adapter(comm);\n\n    function ondownload(figure, _format) {\n        window.open(figure.canvas.toDataURL());\n    }\n\n    var fig = new mpl.figure(id, ws_proxy, ondownload, element);\n\n    // Call onopen now - mpl needs it, as it is assuming we've passed it a real\n    // web socket which is closed, not our websocket->open comm proxy.\n    ws_proxy.onopen();\n\n    fig.parent_element = element;\n    fig.cell_info = mpl.find_output_cell(\"<div id='\" + id + \"'></div>\");\n    if (!fig.cell_info) {\n        console.error('Failed to find cell for figure', id, fig);\n        return;\n    }\n    fig.cell_info[0].output_area.element.on(\n        'cleared',\n        { fig: fig },\n        fig._remove_fig_handler\n    );\n};\n\nmpl.figure.prototype.handle_close = function (fig, msg) {\n    var width = fig.canvas.width / fig.ratio;\n    fig.cell_info[0].output_area.element.off(\n        'cleared',\n        fig._remove_fig_handler\n    );\n    fig.resizeObserverInstance.unobserve(fig.canvas_div);\n\n    // Update the output cell to use the data from the current canvas.\n    fig.push_to_output();\n    var dataURL = fig.canvas.toDataURL();\n    // Re-enable the keyboard manager in IPython - without this line, in FF,\n    // the notebook keyboard shortcuts fail.\n    IPython.keyboard_manager.enable();\n    fig.parent_element.innerHTML =\n        '<img src=\"' + dataURL + '\" width=\"' + width + '\">';\n    fig.close_ws(fig, msg);\n};\n\nmpl.figure.prototype.close_ws = function (fig, msg) {\n    fig.send_message('closing', msg);\n    // fig.ws.close()\n};\n\nmpl.figure.prototype.push_to_output = function (_remove_interactive) {\n    // Turn the data on the canvas into data in the output cell.\n    var width = this.canvas.width / this.ratio;\n    var dataURL = this.canvas.toDataURL();\n    this.cell_info[1]['text/html'] =\n        '<img src=\"' + dataURL + '\" width=\"' + width + '\">';\n};\n\nmpl.figure.prototype.updated_canvas_event = function () {\n    // Tell IPython that the notebook contents must change.\n    IPython.notebook.set_dirty(true);\n    this.send_message('ack', {});\n    var fig = this;\n    // Wait a second, then push the new image to the DOM so\n    // that it is saved nicely (might be nice to debounce this).\n    setTimeout(function () {\n        fig.push_to_output();\n    }, 1000);\n};\n\nmpl.figure.prototype._init_toolbar = function () {\n    var fig = this;\n\n    var toolbar = document.createElement('div');\n    toolbar.classList = 'btn-toolbar';\n    this.root.appendChild(toolbar);\n\n    function on_click_closure(name) {\n        return function (_event) {\n            return fig.toolbar_button_onclick(name);\n        };\n    }\n\n    function on_mouseover_closure(tooltip) {\n        return function (event) {\n            if (!event.currentTarget.disabled) {\n                return fig.toolbar_button_onmouseover(tooltip);\n            }\n        };\n    }\n\n    fig.buttons = {};\n    var buttonGroup = document.createElement('div');\n    buttonGroup.classList = 'btn-group';\n    var button;\n    for (var toolbar_ind in mpl.toolbar_items) {\n        var name = mpl.toolbar_items[toolbar_ind][0];\n        var tooltip = mpl.toolbar_items[toolbar_ind][1];\n        var image = mpl.toolbar_items[toolbar_ind][2];\n        var method_name = mpl.toolbar_items[toolbar_ind][3];\n\n        if (!name) {\n            /* Instead of a spacer, we start a new button group. */\n            if (buttonGroup.hasChildNodes()) {\n                toolbar.appendChild(buttonGroup);\n            }\n            buttonGroup = document.createElement('div');\n            buttonGroup.classList = 'btn-group';\n            continue;\n        }\n\n        button = fig.buttons[name] = document.createElement('button');\n        button.classList = 'btn btn-default';\n        button.href = '#';\n        button.title = name;\n        button.innerHTML = '<i class=\"fa ' + image + ' fa-lg\"></i>';\n        button.addEventListener('click', on_click_closure(method_name));\n        button.addEventListener('mouseover', on_mouseover_closure(tooltip));\n        buttonGroup.appendChild(button);\n    }\n\n    if (buttonGroup.hasChildNodes()) {\n        toolbar.appendChild(buttonGroup);\n    }\n\n    // Add the status bar.\n    var status_bar = document.createElement('span');\n    status_bar.classList = 'mpl-message pull-right';\n    toolbar.appendChild(status_bar);\n    this.message = status_bar;\n\n    // Add the close button to the window.\n    var buttongrp = document.createElement('div');\n    buttongrp.classList = 'btn-group inline pull-right';\n    button = document.createElement('button');\n    button.classList = 'btn btn-mini btn-primary';\n    button.href = '#';\n    button.title = 'Stop Interaction';\n    button.innerHTML = '<i class=\"fa fa-power-off icon-remove icon-large\"></i>';\n    button.addEventListener('click', function (_evt) {\n        fig.handle_close(fig, {});\n    });\n    button.addEventListener(\n        'mouseover',\n        on_mouseover_closure('Stop Interaction')\n    );\n    buttongrp.appendChild(button);\n    var titlebar = this.root.querySelector('.ui-dialog-titlebar');\n    titlebar.insertBefore(buttongrp, titlebar.firstChild);\n};\n\nmpl.figure.prototype._remove_fig_handler = function (event) {\n    var fig = event.data.fig;\n    if (event.target !== this) {\n        // Ignore bubbled events from children.\n        return;\n    }\n    fig.close_ws(fig, {});\n};\n\nmpl.figure.prototype._root_extra_style = function (el) {\n    el.style.boxSizing = 'content-box'; // override notebook setting of border-box.\n};\n\nmpl.figure.prototype._canvas_extra_style = function (el) {\n    // this is important to make the div 'focusable\n    el.setAttribute('tabindex', 0);\n    // reach out to IPython and tell the keyboard manager to turn it's self\n    // off when our div gets focus\n\n    // location in version 3\n    if (IPython.notebook.keyboard_manager) {\n        IPython.notebook.keyboard_manager.register_events(el);\n    } else {\n        // location in version 2\n        IPython.keyboard_manager.register_events(el);\n    }\n};\n\nmpl.figure.prototype._key_event_extra = function (event, _name) {\n    // Check for shift+enter\n    if (event.shiftKey && event.which === 13) {\n        this.canvas_div.blur();\n        // select the cell after this one\n        var index = IPython.notebook.find_cell_index(this.cell_info[0]);\n        IPython.notebook.select(index + 1);\n    }\n};\n\nmpl.figure.prototype.handle_save = function (fig, _msg) {\n    fig.ondownload(fig, null);\n};\n\nmpl.find_output_cell = function (html_output) {\n    // Return the cell and output element which can be found *uniquely* in the notebook.\n    // Note - this is a bit hacky, but it is done because the \"notebook_saving.Notebook\"\n    // IPython event is triggered only after the cells have been serialised, which for\n    // our purposes (turning an active figure into a static one), is too late.\n    var cells = IPython.notebook.get_cells();\n    var ncells = cells.length;\n    for (var i = 0; i < ncells; i++) {\n        var cell = cells[i];\n        if (cell.cell_type === 'code') {\n            for (var j = 0; j < cell.output_area.outputs.length; j++) {\n                var data = cell.output_area.outputs[j];\n                if (data.data) {\n                    // IPython >= 3 moved mimebundle to data attribute of output\n                    data = data.data;\n                }\n                if (data['text/html'] === html_output) {\n                    return [cell, data, j];\n                }\n            }\n        }\n    }\n};\n\n// Register the function which deals with the matplotlib target/channel.\n// The kernel may be null if the page has been refreshed.\nif (IPython.notebook.kernel !== null) {\n    IPython.notebook.kernel.comm_manager.register_target(\n        'matplotlib',\n        mpl.mpl_figure_comm\n    );\n}\n",
      "text/plain": [
       "<IPython.core.display.Javascript object>"
      ]
     },
     "metadata": {},
     "output_type": "display_data"
    },
    {
     "data": {
      "text/html": [
       "<img src=\"data:image/png;base64,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\" width=\"1000\">"
      ],
      "text/plain": [
       "<IPython.core.display.HTML object>"
      ]
     },
     "metadata": {},
     "output_type": "display_data"
    }
   ],
   "source": [
    "fig = plt.figure(figsize=(10,7))\n",
    "ax = plt.axes(projection='3d')\n",
    "ax.scatter3D(cliente['Longitud_de_petalo'], cliente['Ancho_de_petalo'], cliente['Longitud_de_sepalo'], c=prediccionkm, cmap='tab10')\n",
    "plt.title('Segmentacion de iris')\n",
    "ax.set_xlabel('Longitud_de_petalo')\n",
    "ax.set_ylabel('Ancho_de_petalo')\n",
    "ax.set_zlabel('Longitud_de_petalo')\n",
    "plt.show();"
   ]
  },
  {
   "cell_type": "code",
   "execution_count": null,
   "id": "90d65dd4",
   "metadata": {},
   "outputs": [],
   "source": []
  }
 ],
 "metadata": {
  "kernelspec": {
   "display_name": "Python 3 (ipykernel)",
   "language": "python",
   "name": "python3"
  },
  "language_info": {
   "codemirror_mode": {
    "name": "ipython",
    "version": 3
   },
   "file_extension": ".py",
   "mimetype": "text/x-python",
   "name": "python",
   "nbconvert_exporter": "python",
   "pygments_lexer": "ipython3",
   "version": "3.9.12"
  }
 },
 "nbformat": 4,
 "nbformat_minor": 5
}
